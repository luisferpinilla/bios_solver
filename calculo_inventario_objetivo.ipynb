{
 "cells": [
  {
   "cell_type": "code",
   "execution_count": null,
   "metadata": {},
   "outputs": [],
   "source": [
    "import pandas as pd\n",
    "import numpy as np\n",
    "from sklearn.cluster import KMeans\n",
    "from problema.asignador_capacidad import AsignadorCapacidad"
   ]
  },
  {
   "cell_type": "code",
   "execution_count": null,
   "metadata": {},
   "outputs": [],
   "source": [
    "bios_input_file = '0_model_template_0227_v4.xlsm'"
   ]
  },
  {
   "cell_type": "code",
   "execution_count": null,
   "metadata": {},
   "outputs": [],
   "source": [
    "# Capacidad de carga de un camion\n",
    "cap_camion = 34000"
   ]
  },
  {
   "cell_type": "code",
   "execution_count": null,
   "metadata": {},
   "outputs": [],
   "source": [
    "# Leer el archivo de excel\n",
    "productos_df = pd.read_excel(io=bios_input_file, sheet_name='ingredientes')\n",
    "plantas_df = pd.read_excel(io=bios_input_file, sheet_name='plantas')\n",
    "asignador = AsignadorCapacidad(bios_input_file)\n",
    "unidades_almacenamiento_df = asignador.obtener_unidades_almacenamiento()\n",
    "safety_stock_df = pd.read_excel(io=bios_input_file, sheet_name='safety_stock')\n",
    "consumo_proyectado_df = pd.read_excel(\n",
    "    io=bios_input_file, sheet_name='consumo_proyectado')\n",
    "transitos_puerto_df = pd.read_excel(\n",
    "    io=bios_input_file, sheet_name='tto_puerto')\n",
    "transitos_planta_df = pd.read_excel(\n",
    "    io=bios_input_file, sheet_name='tto_plantas')\n",
    "inventario_puerto_df = pd.read_excel(\n",
    "    io=bios_input_file, sheet_name='inventario_puerto')\n",
    "costos_almacenamiento_df = pd.read_excel(\n",
    "    io=bios_input_file, sheet_name='costos_almacenamiento_cargas')\n",
    "operaciones_portuarias_df = pd.read_excel(\n",
    "    io=bios_input_file, sheet_name='costos_operacion_portuaria')\n",
    "fletes_df = pd.read_excel(io=bios_input_file, sheet_name='fletes_cop_per_kg')\n",
    "intercompany_df = pd.read_excel(\n",
    "    io=bios_input_file, sheet_name='venta_entre_empresas')"
   ]
  },
  {
   "cell_type": "markdown",
   "metadata": {},
   "source": [
    "## Armando el dataset"
   ]
  },
  {
   "cell_type": "code",
   "execution_count": null,
   "metadata": {},
   "outputs": [],
   "source": [
    "# Generar un dataset con las combinaciones de ingredientes y plantas\n",
    "objetivo = list()\n",
    "\n",
    "for planta in list(plantas_df['planta']):\n",
    "    for ingrediente in list(productos_df['nombre']):\n",
    "        objetivo.append({'planta': planta, 'ingrediente': ingrediente})\n",
    "objetivo_df = pd.DataFrame(objetivo)\n",
    "\n",
    "# Generar un mapeo para empresas\n",
    "empresas_map = {plantas_df.loc[i]['planta']\n",
    "    : plantas_df.loc[i]['empresa'] for i in plantas_df.index}\n",
    "objetivo_df['empresa'] = objetivo_df['planta'].map(empresas_map)\n",
    "\n",
    "# Agregar el dato del consumo medio\n",
    "temp_df = consumo_proyectado_df[['planta', 'ingrediente']].copy()\n",
    "temp_df['consumo_medio'] = consumo_proyectado_df.drop(\n",
    "    columns=['planta', 'ingrediente', 'Total', 'Promedio']).mean(axis=1)\n",
    "\n",
    "\n",
    "objetivo_df = pd.merge(left=objetivo_df,\n",
    "                       right=temp_df,\n",
    "                       left_on=['planta', 'ingrediente'],\n",
    "                       right_on=['planta', 'ingrediente'],\n",
    "                       how='left').fillna(0.0)\n",
    "\n",
    "# Obtener la capacidad de almacenamiento por planta e ingrediente\n",
    "temp_df = unidades_almacenamiento_df.groupby(by=['planta', 'ingrediente_actual'])[\n",
    "    ['Capacidad']].sum().reset_index().rename(columns={'ingrediente_actual': 'ingrediente', 'Capacidad': 'capacidad_kg'})\n",
    "\n",
    "objetivo_df = pd.merge(left=objetivo_df,\n",
    "                       right=temp_df,\n",
    "                       left_on=['planta', 'ingrediente'],\n",
    "                       right_on=['planta', 'ingrediente'],\n",
    "                       how='left')\n",
    "\n",
    "# Colocando el inventario actual\n",
    "temp_df = unidades_almacenamiento_df.groupby(by=['planta', 'ingrediente_actual'])[\n",
    "    ['cantidad_actual']].sum().reset_index().rename(columns={'ingrediente_actual': 'ingrediente',\n",
    "                                                             'cantidad_actual': 'inventario_kg'})\n",
    "\n",
    "objetivo_df = pd.merge(left=objetivo_df,\n",
    "                       right=temp_df,\n",
    "                       left_on=['planta', 'ingrediente'],\n",
    "                       right_on=['planta', 'ingrediente'],\n",
    "                       how='left').fillna(0.0)"
   ]
  },
  {
   "cell_type": "code",
   "execution_count": null,
   "metadata": {},
   "outputs": [],
   "source": [
    "# Colocar los transitos ya planeados\n",
    "temp_df = transitos_planta_df.groupby(by=['planta', 'ingrediente'])[\n",
    "    ['cantidad']].sum().reset_index().rename(columns={'cantidad': 'transito_kg'})\n",
    "\n",
    "objetivo_df = pd.merge(left=objetivo_df,\n",
    "                       right=temp_df,\n",
    "                       left_on=['planta', 'ingrediente'],\n",
    "                       right_on=['planta', 'ingrediente'],\n",
    "                       how='left').fillna(0.0)"
   ]
  },
  {
   "cell_type": "code",
   "execution_count": null,
   "metadata": {},
   "outputs": [],
   "source": [
    "# Safety Stock\n",
    "objetivo_df = pd.merge(left=objetivo_df,\n",
    "                       right=safety_stock_df[[\n",
    "                           'planta', 'ingrediente', 'dias_ss']],\n",
    "                       left_on=['planta', 'ingrediente'],\n",
    "                       right_on=['planta', 'ingrediente'],\n",
    "                       how='left')"
   ]
  },
  {
   "cell_type": "code",
   "execution_count": null,
   "metadata": {},
   "outputs": [],
   "source": [
    "# Calcular indicadores\n",
    "objetivo_df['capacidad_dio'] = objetivo_df.apply(\n",
    "    lambda x: x['capacidad_kg']/x['consumo_medio'] if x['consumo_medio'] > 0 else 0.0 if x['capacidad_kg'] == 0.0 else 365, axis=1)\n",
    "\n",
    "objetivo_df['inventario_dio'] = objetivo_df.apply(\n",
    "    lambda x: x['inventario_kg']/x['consumo_medio'] if x['consumo_medio'] > 0 else 0.0 if x['inventario_kg'] == 0.0 else 365, axis=1)\n",
    "\n",
    "objetivo_df['transito_dio'] = objetivo_df.apply(\n",
    "    lambda x: x['transito_kg']/x['consumo_medio'] if x['consumo_medio'] > 0 else 0.0 if x['transito_kg'] == 0.0 else 365, axis=1)\n",
    "\n",
    "objetivo_df['aporte_camion_dio'] = objetivo_df.apply(\n",
    "    lambda x: cap_camion/x['consumo_medio'] if x['consumo_medio'] > 0 else 365, axis=1)"
   ]
  },
  {
   "cell_type": "code",
   "execution_count": null,
   "metadata": {},
   "outputs": [],
   "source": [
    "objetivo_df"
   ]
  },
  {
   "cell_type": "code",
   "execution_count": null,
   "metadata": {},
   "outputs": [],
   "source": [
    "objetivo_df.to_excel('borrame.xlsx', index=False)"
   ]
  },
  {
   "cell_type": "markdown",
   "metadata": {},
   "source": [
    "## Calculando costo de despacho"
   ]
  },
  {
   "cell_type": "code",
   "execution_count": null,
   "metadata": {},
   "outputs": [],
   "source": [
    "# Costos de fletes por importacion, producto y planta por cada camion\n",
    "costos_transporte_df = fletes_df.melt(id_vars=['puerto', 'operador', 'ingrediente'],\n",
    "                                      value_vars=fletes_df.drop(\n",
    "    columns=['puerto', 'operador', 'ingrediente']).columns,\n",
    "    var_name='planta',\n",
    "    value_name='costo_kg')\n",
    "\n",
    "costos_transporte_df['flete_camion'] = cap_camion * \\\n",
    "    costos_transporte_df['costo_kg']\n",
    "\n",
    "costos_transporte_df.drop(columns=['costo_kg'], inplace=True)\n",
    "\n",
    "# Agregar Costos de operaciones portuarias\n",
    "temp_df = operaciones_portuarias_df[operaciones_portuarias_df['tipo_operacion'] == 'directo'].drop(columns=[\n",
    "                                                                                                   'tipo_operacion'])\n",
    "temp_df['despacho_directo'] = cap_camion*temp_df['valor_kg']\n",
    "temp_df.drop(columns=['valor_kg'], inplace=True)\n",
    "\n",
    "# Unir a costos de transporte\n",
    "join_field_list = ['puerto', 'operador', 'ingrediente']\n",
    "costos_transporte_df = pd.merge(left=costos_transporte_df,\n",
    "                                right=temp_df,\n",
    "                                left_on=join_field_list,\n",
    "                                right_on=join_field_list,\n",
    "                                how='left')\n",
    "\n",
    "# Adicionar empresa de destino\n",
    "costos_transporte_df['empresa_destino'] = costos_transporte_df['planta'].map(\n",
    "    empresas_map)"
   ]
  },
  {
   "cell_type": "code",
   "execution_count": null,
   "metadata": {},
   "outputs": [],
   "source": [
    "print('Fletes sin costos portuarios de despacho directo asociados')\n",
    "costos_transporte_df[costos_transporte_df['despacho_directo'].isnull()]"
   ]
  },
  {
   "cell_type": "markdown",
   "metadata": {},
   "source": [
    "## Obteniendo cargas"
   ]
  },
  {
   "cell_type": "code",
   "execution_count": null,
   "metadata": {},
   "outputs": [],
   "source": [
    "# obtener valores de cargas en tránsito a puerto\n",
    "cargas_df = transitos_puerto_df.rename(\n",
    "    columns={'valor_kg': 'valor_cif_kg'}).copy()\n",
    "\n",
    "# Agregar status\n",
    "cargas_df['status'] = ['transito' for i in cargas_df.index]\n",
    "\n",
    "# Obtener el inventario en puerto\n",
    "temp_df = inventario_puerto_df.copy()\n",
    "\n",
    "temp_df['status'] = ['bodega' for i in temp_df.index]\n",
    "\n",
    "# Concatenar cargas\n",
    "cargas_df = pd.concat([cargas_df, temp_df])\n",
    "\n",
    "# Renombrar empresa\n",
    "cargas_df.rename(columns={'empresa': 'empresa_origen'}, inplace=True)"
   ]
  },
  {
   "cell_type": "code",
   "execution_count": null,
   "metadata": {},
   "outputs": [],
   "source": [
    "cargas_df.head()"
   ]
  },
  {
   "cell_type": "code",
   "execution_count": null,
   "metadata": {},
   "outputs": [],
   "source": [
    "join_field_list = ['puerto', 'operador', 'ingrediente']\n",
    "costos_transporte_df = pd.merge(left=cargas_df,\n",
    "                                right=costos_transporte_df,\n",
    "                                left_on=join_field_list,\n",
    "                                right_on=join_field_list,\n",
    "                                how='left')"
   ]
  },
  {
   "cell_type": "code",
   "execution_count": null,
   "metadata": {},
   "outputs": [],
   "source": [
    "print('Cargas que no tienen fletes relacionados')\n",
    "costos_transporte_df[costos_transporte_df['planta'].isna()]"
   ]
  },
  {
   "cell_type": "code",
   "execution_count": null,
   "metadata": {},
   "outputs": [],
   "source": [
    "# Costos intercompany\n",
    "temp_df = intercompany_df.melt(id_vars='origen', value_vars=['contegral', 'finca'], var_name='destino', value_name='valor_intercompany').rename(\n",
    "    columns={'origen': 'empresa_origen', 'destino': 'empresa_destino'})\n",
    "\n",
    "join_field_list = ['empresa_origen', 'empresa_destino']\n",
    "costos_transporte_df = pd.merge(left=costos_transporte_df,\n",
    "                                right=temp_df,\n",
    "                                left_on=join_field_list,\n",
    "                                right_on=join_field_list,\n",
    "                                how='inner')"
   ]
  },
  {
   "cell_type": "code",
   "execution_count": null,
   "metadata": {},
   "outputs": [],
   "source": [
    "costos_transporte_df.head()"
   ]
  },
  {
   "cell_type": "code",
   "execution_count": null,
   "metadata": {},
   "outputs": [],
   "source": [
    "costos_transporte_df['costo_intercompany_camion'] = cap_camion * \\\n",
    "    costos_transporte_df['valor_cif_kg'] * \\\n",
    "    costos_transporte_df['valor_intercompany']"
   ]
  },
  {
   "cell_type": "code",
   "execution_count": null,
   "metadata": {},
   "outputs": [],
   "source": [
    "costos_transporte_df['costo_transporte_camion_directo'] = costos_transporte_df['flete_camion'] + \\\n",
    "    costos_transporte_df['despacho_directo'] + \\\n",
    "    costos_transporte_df['costo_intercompany_camion']"
   ]
  },
  {
   "cell_type": "code",
   "execution_count": null,
   "metadata": {},
   "outputs": [],
   "source": [
    "costos_transporte_df['costo_transporte_camion_indirecto'] = costos_transporte_df['flete_camion'] + \\\n",
    "    costos_transporte_df['costo_intercompany_camion']"
   ]
  },
  {
   "cell_type": "code",
   "execution_count": null,
   "metadata": {},
   "outputs": [],
   "source": [
    "costos_transporte_df.head()"
   ]
  },
  {
   "cell_type": "code",
   "execution_count": null,
   "metadata": {},
   "outputs": [],
   "source": [
    "fields_to_melt = ['costo_transporte_camion_directo',\n",
    "                  'costo_transporte_camion_indirecto']\n",
    "fields_to_keep = costos_transporte_df.drop(columns=fields_to_melt).columns"
   ]
  },
  {
   "cell_type": "code",
   "execution_count": null,
   "metadata": {},
   "outputs": [],
   "source": [
    "costos_transporte_df = costos_transporte_df.melt(id_vars=fields_to_keep,\n",
    "                                                 value_vars=fields_to_melt,\n",
    "                                                 var_name='tipo_transporte',\n",
    "                                                 value_name='costo_total_por_camion')"
   ]
  },
  {
   "cell_type": "code",
   "execution_count": null,
   "metadata": {},
   "outputs": [],
   "source": [
    "costos_transporte_df['tipo_transporte'] = costos_transporte_df['tipo_transporte'].apply(\n",
    "    lambda x: str(x).replace('costo_transporte_camion_', ''))"
   ]
  },
  {
   "cell_type": "code",
   "execution_count": null,
   "metadata": {},
   "outputs": [],
   "source": [
    "costos_transporte_df.columns"
   ]
  },
  {
   "cell_type": "code",
   "execution_count": null,
   "metadata": {},
   "outputs": [],
   "source": [
    "costos_transporte_df.pivot_table(values='costo_total_por_camion',\n",
    "                                 columns='planta',\n",
    "                                 index=['puerto'],\n",
    "                                 aggfunc='mean').style.format(precision=0).highlight_max(color='red').highlight_min(color='green')"
   ]
  },
  {
   "cell_type": "code",
   "execution_count": null,
   "metadata": {},
   "outputs": [],
   "source": [
    "def asignar_etiquetas(df: pd.DataFrame, column_name: str, n_clusters=3):\n",
    "    # Copiamos el DataFrame para no modificar el original\n",
    "    df_resultado = df.copy()\n",
    "\n",
    "    # Instanciar el modelo KMeans\n",
    "    kmeans = KMeans(n_clusters=3,\n",
    "                    init='random',\n",
    "                    n_init=10,\n",
    "                    max_iter=300,\n",
    "                    random_state=0)\n",
    "\n",
    "    # Ajustar el modelo a los datos\n",
    "    kmeans.fit(np.array(df[column_name]).reshape(-1, 1))\n",
    "\n",
    "    # Obtener las etiquetas de los clusters\n",
    "    labels = kmeans.labels_\n",
    "\n",
    "    # Agregar las etiquetas al DataFrame\n",
    "    df_resultado['cluster'] = labels\n",
    "\n",
    "    # Calcular los centroides\n",
    "    centroids = kmeans.cluster_centers_\n",
    "\n",
    "    # Calcular los límites de los clusters\n",
    "    limits = [df[labels == i].describe() for i in range(n_clusters)]\n",
    "\n",
    "    # Asignar etiquetas de 'alto', 'medio' y 'bajo'\n",
    "    for i in range(n_clusters):\n",
    "        df_resultado.loc[df_resultado['cluster'] == i, 'etiqueta'] = (\n",
    "            'alto' if centroids[i] == max(centroids) else\n",
    "            'bajo' if centroids[i] == min(centroids) else\n",
    "            'medio'\n",
    "        )\n",
    "\n",
    "    return df_resultado"
   ]
  },
  {
   "cell_type": "code",
   "execution_count": null,
   "metadata": {},
   "outputs": [],
   "source": [
    "\n",
    "asignar_etiquetas(df=costos_transporte_df,\n",
    "                  column_name='costo_total_por_camion')"
   ]
  },
  {
   "cell_type": "code",
   "execution_count": null,
   "metadata": {},
   "outputs": [],
   "source": [
    "list_clusters = list()\n",
    "for planta in list(plantas_df['planta']):\n",
    "    # for importacion in list(costos_transporte_df['importacion'].unique()):\n",
    "    df = costos_transporte_df[costos_transporte_df['planta']\n",
    "                              == planta]\n",
    "    list_clusters.append(asignar_etiquetas(\n",
    "        df=df, column_name='costo_total_por_camion'))\n",
    "costos_transporte_df = pd.concat(list_clusters)"
   ]
  },
  {
   "cell_type": "code",
   "execution_count": null,
   "metadata": {},
   "outputs": [],
   "source": [
    "costos_transporte_df.pivot_table(values='etiqueta',\n",
    "                                 columns='planta',\n",
    "                                 index=['puerto', 'importacion',\n",
    "                                        'tipo_transporte', 'cantidad_kg'],\n",
    "                                 aggfunc=list)"
   ]
  },
  {
   "cell_type": "code",
   "execution_count": null,
   "metadata": {},
   "outputs": [],
   "source": [
    "costos_almacenamiento_df"
   ]
  },
  {
   "cell_type": "code",
   "execution_count": null,
   "metadata": {},
   "outputs": [],
   "source": [
    "costos_almacenamiento_df['corte'] = costos_almacenamiento_df.apply(\n",
    "    lambda x: (x['fecha_corte'], x['valor_kg']), axis=1)"
   ]
  },
  {
   "cell_type": "code",
   "execution_count": null,
   "metadata": {},
   "outputs": [],
   "source": [
    "costos_almacenamiento_df"
   ]
  },
  {
   "cell_type": "code",
   "execution_count": null,
   "metadata": {},
   "outputs": [],
   "source": [
    "cargas_df['importacion'] = cargas_df['importacion'].apply(\n",
    "    lambda x: str(x).replace(' ', ''))"
   ]
  },
  {
   "cell_type": "code",
   "execution_count": null,
   "metadata": {},
   "outputs": [],
   "source": [
    "importaciones = list(costos_almacenamiento_df['importacion'].apply(\n",
    "    lambda x: str(x).replace(' ', '')))"
   ]
  },
  {
   "cell_type": "code",
   "execution_count": null,
   "metadata": {},
   "outputs": [],
   "source": [
    "cargas_df[~cargas_df['importacion'].isin(importaciones)]"
   ]
  },
  {
   "cell_type": "code",
   "execution_count": null,
   "metadata": {},
   "outputs": [],
   "source": [
    "cantidad_periodos = len(consumo_proyectado_df.drop(\n",
    "    columns=['planta', 'ingrediente', 'Total', 'Promedio']).columns)\n",
    "temp_df = pd.merge(left=cargas_df.groupby(by=['ingrediente'])[['cantidad_kg']].sum().rename(columns={'cantidad_kg': 'inventario_puerto_kg'}).reset_index(),\n",
    "                   right=objetivo_df.groupby('ingrediente')[\n",
    "    ['consumo_medio', 'inventario_kg', 'transito_kg']].sum().reset_index(),\n",
    "    left_on='ingrediente',\n",
    "    right_on='ingrediente',\n",
    "    how='left')\n",
    "\n",
    "temp_df['inventario_total'] = temp_df['inventario_puerto_kg'] + \\\n",
    "    temp_df['inventario_kg'] + temp_df['transito_kg']\n",
    "temp_df['inventario_menos_consumo'] = temp_df['inventario_total'] - \\\n",
    "    cantidad_periodos*temp_df['consumo_medio']\n",
    "temp_df['objetivo_dio_general'] = temp_df['inventario_menos_consumo'] / \\\n",
    "    temp_df['consumo_medio']"
   ]
  },
  {
   "cell_type": "code",
   "execution_count": null,
   "metadata": {},
   "outputs": [],
   "source": [
    "temp_df"
   ]
  },
  {
   "cell_type": "code",
   "execution_count": null,
   "metadata": {},
   "outputs": [],
   "source": [
    "objetivo_df = pd.merge(left=objetivo_df,\n",
    "                       right=temp_df[['ingrediente', 'objetivo_dio_general']],\n",
    "                       left_on=['ingrediente'],\n",
    "                       right_on=['ingrediente'],\n",
    "                       how='left')"
   ]
  },
  {
   "cell_type": "code",
   "execution_count": null,
   "metadata": {},
   "outputs": [],
   "source": [
    "def objetivo_ajustado(x) -> float:\n",
    "\n",
    "    if x['objetivo_dio_general'] > 0 and x['dias_ss'] > 0 and x['consumo_medio'] > 0:\n",
    "        objetivo = x['capacidad_dio'] - 2*x['aporte_camion_dio']\n",
    "\n",
    "        return min(x['objetivo_dio_general'], objetivo)\n",
    "\n",
    "    return 0"
   ]
  },
  {
   "cell_type": "code",
   "execution_count": null,
   "metadata": {},
   "outputs": [],
   "source": [
    "objetivo_df['objetivo_dio'] = objetivo_df.apply(objetivo_ajustado, axis=1)"
   ]
  },
  {
   "cell_type": "code",
   "execution_count": null,
   "metadata": {},
   "outputs": [],
   "source": [
    "objetivo_df['objetivo_kg'] = objetivo_df['objetivo_dio'] * \\\n",
    "    objetivo_df['consumo_medio']"
   ]
  },
  {
   "cell_type": "code",
   "execution_count": null,
   "metadata": {},
   "outputs": [],
   "source": [
    "objetivo_df[objetivo_df['ingrediente'] == 'destilado']"
   ]
  },
  {
   "cell_type": "code",
   "execution_count": null,
   "metadata": {},
   "outputs": [],
   "source": [
    "objetivo_df.to_excel('target.xlsx')"
   ]
  }
 ],
 "metadata": {
  "kernelspec": {
   "display_name": "env",
   "language": "python",
   "name": "python3"
  },
  "language_info": {
   "codemirror_mode": {
    "name": "ipython",
    "version": 3
   },
   "file_extension": ".py",
   "mimetype": "text/x-python",
   "name": "python",
   "nbconvert_exporter": "python",
   "pygments_lexer": "ipython3",
   "version": "3.11.4"
  }
 },
 "nbformat": 4,
 "nbformat_minor": 2
}
