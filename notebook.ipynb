{
 "cells": [
  {
   "cell_type": "code",
   "execution_count": null,
   "metadata": {},
   "outputs": [],
   "source": [
    "from modelo.problema import Problema\n",
    "from modelo.reporte import Reporte\n",
    "import pandas as pd\n",
    "from datetime import datetime, timedelta\n",
    "from modelo.reporte import Reporte\n",
    "import matplotlib.pyplot as plt\n",
    "import numpy as np"
   ]
  },
  {
   "cell_type": "code",
   "execution_count": null,
   "metadata": {},
   "outputs": [],
   "source": [
    "file = '0_model_23oct-rev.xlsm'\n",
    "\n",
    "problema = Problema(excel_file_path=file)\n",
    "\n",
    "problema.generar_sets()\n",
    "\n",
    "problema.generar_parameters()\n",
    "\n",
    "problema.generar_vars()\n",
    "\n",
    "problema.generar_target()\n",
    "\n",
    "problema.gen_constrains()\n",
    "\n",
    "problema.solve(tlimit=120)"
   ]
  },
  {
   "cell_type": "code",
   "execution_count": null,
   "metadata": {},
   "outputs": [],
   "source": [
    "reporte = Reporte(problema=problema)"
   ]
  },
  {
   "cell_type": "code",
   "execution_count": null,
   "metadata": {},
   "outputs": [],
   "source": [
    "planta_df = reporte.obtener_fact_inventario_planta()"
   ]
  },
  {
   "cell_type": "code",
   "execution_count": null,
   "metadata": {},
   "outputs": [],
   "source": [
    "filtros = ['empresa', 'planta', 'ingrediente', 'item']"
   ]
  },
  {
   "cell_type": "code",
   "execution_count": null,
   "metadata": {},
   "outputs": [],
   "source": [
    "names = [datetime.strptime(x, '%Y-%m-%d')  for x in planta_df.drop(columns=['Previo'] + filtros).columns]\n",
    "names = [names[0]-timedelta(days=1)] + names\n",
    "names = [x.strftime(format='%b-%d') for x in names]"
   ]
  },
  {
   "cell_type": "code",
   "execution_count": null,
   "metadata": {},
   "outputs": [],
   "source": [
    "ingrediente = 'maiz'\n",
    "planta = 'envigado'\n",
    "\n",
    "df = planta_df[(planta_df['ingrediente']==ingrediente)&(planta_df['planta']==planta)]"
   ]
  },
  {
   "cell_type": "code",
   "execution_count": null,
   "metadata": {},
   "outputs": [],
   "source": [
    "def dibujar(df:pd.DataFrame):\n",
    "    # Values of each group\n",
    "    llegadas_directas_kg = list(df[df['item']=='llegadas_directas_kg'].drop(columns=filtros).iloc[0])\n",
    "    llegadas_por_bodega_kg = list(df[df['item']=='llegadas_por_bodega_kg'].drop(columns=filtros).iloc[0])\n",
    "    inventario_al_cierre = list(df[df['item']=='inventario_al_cierre_kg'].drop(columns=filtros).iloc[0])\n",
    "    transitos_a_bodega = list(df[df['item']=='transitos_kg'].drop(columns=filtros).iloc[0])\n",
    "    consumo_proyectado = list(df[df['item']=='consumo_kg'].drop(columns=filtros).iloc[0])\n",
    "    safety_stock = list(df[df['item']=='safety_stock'].drop(columns=filtros).iloc[0])\n",
    "    \n",
    "    fig, ax = plt.subplots(figsize=(12, 4))\n",
    "\n",
    "    fig.suptitle(f'Inventarios de {ingrediente} en {planta}', fontsize=14)\n",
    "\n",
    "    ax.set_xlabel('Fecha')\n",
    "    ax.set_ylabel('Kg')\n",
    "\n",
    "    ax.plot(names, inventario_al_cierre, label='Inventario al cierre')\n",
    "    ax.plot(names, consumo_proyectado, label='Consumo Proyectado')\n",
    "    ax.plot(names, safety_stock, color='red', markers='-', label='Inventario de seguridad')\n",
    "    ax.bar(names, llegadas_directas_kg, color='blue', width=1, label='Llegadas directas')\n",
    "    ax.bar(names, llegadas_por_bodega_kg, color='red', width=1, label='Llegadas indirectas')\n",
    "    ax.bar(names, transitos_a_bodega, color='red', width=1, label='Llegadas programadas')\n",
    "\n",
    "\n",
    "    fig.autofmt_xdate()\n",
    "\n",
    "    plt.legend()\n",
    "    \n",
    "    # Show graphic\n",
    "    return fig"
   ]
  },
  {
   "cell_type": "code",
   "execution_count": null,
   "metadata": {},
   "outputs": [],
   "source": []
  }
 ],
 "metadata": {
  "kernelspec": {
   "display_name": "env",
   "language": "python",
   "name": "python3"
  },
  "language_info": {
   "codemirror_mode": {
    "name": "ipython",
    "version": 3
   },
   "file_extension": ".py",
   "mimetype": "text/x-python",
   "name": "python",
   "nbconvert_exporter": "python",
   "pygments_lexer": "ipython3",
   "version": "3.11.4"
  }
 },
 "nbformat": 4,
 "nbformat_minor": 2
}
