{
 "cells": [
  {
   "cell_type": "markdown",
   "metadata": {
    "tags": [
     "parameters"
    ]
   },
   "source": [
    "# Modelo BIOS:"
   ]
  },
  {
   "cell_type": "markdown",
   "metadata": {},
   "source": [
    "## Importacion de Librerias"
   ]
  },
  {
   "cell_type": "code",
   "execution_count": 166,
   "metadata": {},
   "outputs": [],
   "source": [
    "import pandas as pd\n",
    "from datetime import datetime, timedelta\n",
    "import pulp as pu\n",
    "from problema.asignador_capacidad import AsignadorCapacidad"
   ]
  },
  {
   "cell_type": "markdown",
   "metadata": {},
   "source": [
    "## Parametros generales"
   ]
  },
  {
   "cell_type": "code",
   "execution_count": 167,
   "metadata": {},
   "outputs": [],
   "source": [
    "file = 'model_template_1205v2.xlsm'\n",
    "problema = pu.LpProblem(name='Bios_Solver',\n",
    "                        sense=pu.LpMinimize)\n",
    "\n",
    "# Capacidad de carga de un camion\n",
    "cap_camion = 34000\n",
    "\n",
    "# Capacidad de descarga en puerto por día\n",
    "cap_descarge = 5000000"
   ]
  },
  {
   "cell_type": "markdown",
   "metadata": {},
   "source": [
    "## Lectura de dataframes"
   ]
  },
  {
   "cell_type": "code",
   "execution_count": 168,
   "metadata": {},
   "outputs": [],
   "source": [
    "# Leer el archivo de excel\n",
    "productos_df = pd.read_excel(io=file, sheet_name='ingredientes')\n",
    "plantas_df = pd.read_excel(io=file, sheet_name='plantas')\n",
    "asignador = AsignadorCapacidad(file)\n",
    "unidades_almacenamiento_df = asignador.obtener_unidades_almacenamiento()\n",
    "consumo_proyectado_df = pd.read_excel(io=file, sheet_name='consumo_proyectado')\n",
    "transitos_df = pd.read_excel(io=file, sheet_name='tto_puerto')\n",
    "inventario_puerto_df = pd.read_excel(io=file, sheet_name='inventario_puerto')\n",
    "costos_almacenamiento_df = pd.read_excel(io=file, sheet_name='costos_almacenamiento_cargas')\n",
    "operaciones_portuarias_df = pd.read_excel(io=file, sheet_name='costos_operacion_portuaria')\n",
    "operaciones_portuarias_df = operaciones_portuarias_df.set_index(['tipo_operacion', 'operador', 'puerto', 'ingrediente'])\n",
    "fletes_df = pd.read_excel(io=file, sheet_name='fletes_cop_per_kg')\n",
    "intercompany_df = pd.read_excel(io=file, sheet_name='venta_entre_empresas')"
   ]
  },
  {
   "cell_type": "markdown",
   "metadata": {},
   "source": [
    "## Creacion de parametros del problema\n",
    "### Tiempo"
   ]
  },
  {
   "cell_type": "code",
   "execution_count": 169,
   "metadata": {},
   "outputs": [
    {
     "name": "stdout",
     "output_type": "stream",
     "text": [
      "20231130 20231230\n"
     ]
    }
   ],
   "source": [
    "# Obtener el conjunto de periodos\n",
    "fechas = [datetime.strptime(x, '%d/%m/%Y') for x in consumo_proyectado_df.drop(columns=['planta', 'ingrediente']).columns]\n",
    "\n",
    "periodos = [int(x.strftime('%Y%m%d')) for x in fechas]\n",
    "\n",
    "periodo_anterior = fechas[0] - timedelta(days=1)\n",
    "periodo_anterior = int(periodo_anterior.strftime('%Y%m%d'))\n",
    "\n",
    "print(periodos[0],periodos[-1])"
   ]
  },
  {
   "cell_type": "markdown",
   "metadata": {},
   "source": [
    "### Productos"
   ]
  },
  {
   "cell_type": "code",
   "execution_count": 170,
   "metadata": {},
   "outputs": [],
   "source": [
    "productos = [productos_df.loc[i]['nombre'] for i in productos_df.index]"
   ]
  },
  {
   "cell_type": "markdown",
   "metadata": {},
   "source": [
    "### Plantas\n",
    "#### Tiempo de descarge de materiales"
   ]
  },
  {
   "cell_type": "code",
   "execution_count": 171,
   "metadata": {},
   "outputs": [],
   "source": [
    "# Generar plantas\n",
    "plantas = dict()\n",
    "\n",
    "for j in plantas_df.index:\n",
    "    planta = plantas_df.loc[j]['planta']\n",
    "    empresa = plantas_df.loc[j]['empresa']\n",
    "    operacion_minutos = plantas_df.loc[j]['operacion_minutos']*plantas_df.loc[j]['plataformas']\n",
    "    plantas[planta] = dict()\n",
    "    plantas[planta]['empresa'] = empresa\n",
    "    plantas[planta]['tiempo_total'] = operacion_minutos\n",
    "    plantas[planta]['tiempo_ingrediente'] = dict()\n",
    "    plantas[planta]['llegadas_puerto'] = dict()\n",
    "\n",
    "    for p in productos:\n",
    "        t_ingrediente = plantas_df.loc[j][p]\n",
    "        plantas[planta]['tiempo_ingrediente'][p] = t_ingrediente\n",
    "        plantas[planta]['llegadas_puerto'][p] = {t:list() for t in periodos}"
   ]
  },
  {
   "cell_type": "markdown",
   "metadata": {},
   "source": [
    "#### Inventario en Planta"
   ]
  },
  {
   "cell_type": "code",
   "execution_count": 172,
   "metadata": {},
   "outputs": [
    {
     "name": "stdout",
     "output_type": "stream",
     "text": [
      "(101, 35)\n"
     ]
    },
    {
     "data": {
      "text/html": [
       "<div>\n",
       "<style scoped>\n",
       "    .dataframe tbody tr th:only-of-type {\n",
       "        vertical-align: middle;\n",
       "    }\n",
       "\n",
       "    .dataframe tbody tr th {\n",
       "        vertical-align: top;\n",
       "    }\n",
       "\n",
       "    .dataframe thead th {\n",
       "        text-align: right;\n",
       "    }\n",
       "</style>\n",
       "<table border=\"1\" class=\"dataframe\">\n",
       "  <thead>\n",
       "    <tr style=\"text-align: right;\">\n",
       "      <th></th>\n",
       "      <th>planta</th>\n",
       "      <th>ingrediente</th>\n",
       "      <th>cantidad</th>\n",
       "      <th>capacidad</th>\n",
       "      <th>20231130</th>\n",
       "      <th>20231201</th>\n",
       "      <th>20231202</th>\n",
       "      <th>20231203</th>\n",
       "      <th>20231204</th>\n",
       "      <th>20231205</th>\n",
       "      <th>...</th>\n",
       "      <th>20231221</th>\n",
       "      <th>20231222</th>\n",
       "      <th>20231223</th>\n",
       "      <th>20231224</th>\n",
       "      <th>20231225</th>\n",
       "      <th>20231226</th>\n",
       "      <th>20231227</th>\n",
       "      <th>20231228</th>\n",
       "      <th>20231229</th>\n",
       "      <th>20231230</th>\n",
       "    </tr>\n",
       "  </thead>\n",
       "  <tbody>\n",
       "    <tr>\n",
       "      <th>0</th>\n",
       "      <td>barbosa</td>\n",
       "      <td>frijol</td>\n",
       "      <td>123619.2</td>\n",
       "      <td>204000.0</td>\n",
       "      <td>0.000000</td>\n",
       "      <td>0.000000</td>\n",
       "      <td>0.000000</td>\n",
       "      <td>0.000000</td>\n",
       "      <td>0.000000</td>\n",
       "      <td>0.000000</td>\n",
       "      <td>...</td>\n",
       "      <td>0.000000</td>\n",
       "      <td>0.000000</td>\n",
       "      <td>0.000000</td>\n",
       "      <td>0.000000</td>\n",
       "      <td>0.000000</td>\n",
       "      <td>0.000000</td>\n",
       "      <td>0.000000</td>\n",
       "      <td>0.000000</td>\n",
       "      <td>0.000000</td>\n",
       "      <td>0.000000</td>\n",
       "    </tr>\n",
       "    <tr>\n",
       "      <th>1</th>\n",
       "      <td>barbosa</td>\n",
       "      <td>gluten</td>\n",
       "      <td>1.0</td>\n",
       "      <td>40000.0</td>\n",
       "      <td>253.183667</td>\n",
       "      <td>253.183667</td>\n",
       "      <td>253.183667</td>\n",
       "      <td>253.183667</td>\n",
       "      <td>253.183667</td>\n",
       "      <td>253.183667</td>\n",
       "      <td>...</td>\n",
       "      <td>253.183667</td>\n",
       "      <td>253.183667</td>\n",
       "      <td>253.183667</td>\n",
       "      <td>253.183667</td>\n",
       "      <td>253.183667</td>\n",
       "      <td>253.183667</td>\n",
       "      <td>253.183667</td>\n",
       "      <td>253.183667</td>\n",
       "      <td>253.183667</td>\n",
       "      <td>253.183667</td>\n",
       "    </tr>\n",
       "    <tr>\n",
       "      <th>2</th>\n",
       "      <td>barbosa</td>\n",
       "      <td>maiz</td>\n",
       "      <td>388388.6</td>\n",
       "      <td>408000.0</td>\n",
       "      <td>141663.030000</td>\n",
       "      <td>141663.030000</td>\n",
       "      <td>141663.030000</td>\n",
       "      <td>141663.030000</td>\n",
       "      <td>141663.030000</td>\n",
       "      <td>141663.030000</td>\n",
       "      <td>...</td>\n",
       "      <td>141663.030000</td>\n",
       "      <td>141663.030000</td>\n",
       "      <td>141663.030000</td>\n",
       "      <td>141663.030000</td>\n",
       "      <td>141663.030000</td>\n",
       "      <td>141663.030000</td>\n",
       "      <td>141663.030000</td>\n",
       "      <td>141663.030000</td>\n",
       "      <td>141663.030000</td>\n",
       "      <td>141663.030000</td>\n",
       "    </tr>\n",
       "    <tr>\n",
       "      <th>3</th>\n",
       "      <td>barbosa</td>\n",
       "      <td>tsoya</td>\n",
       "      <td>117787.0</td>\n",
       "      <td>204000.0</td>\n",
       "      <td>45964.794000</td>\n",
       "      <td>45964.794000</td>\n",
       "      <td>45964.794000</td>\n",
       "      <td>45964.794000</td>\n",
       "      <td>45964.794000</td>\n",
       "      <td>45964.794000</td>\n",
       "      <td>...</td>\n",
       "      <td>45964.794000</td>\n",
       "      <td>45964.794000</td>\n",
       "      <td>45964.794000</td>\n",
       "      <td>45964.794000</td>\n",
       "      <td>45964.794000</td>\n",
       "      <td>45964.794000</td>\n",
       "      <td>45964.794000</td>\n",
       "      <td>45964.794000</td>\n",
       "      <td>45964.794000</td>\n",
       "      <td>45964.794000</td>\n",
       "    </tr>\n",
       "    <tr>\n",
       "      <th>4</th>\n",
       "      <td>bmanga</td>\n",
       "      <td>cascarilla</td>\n",
       "      <td>1.0</td>\n",
       "      <td>34000.0</td>\n",
       "      <td>1378.505000</td>\n",
       "      <td>1378.505000</td>\n",
       "      <td>1378.505000</td>\n",
       "      <td>1378.505000</td>\n",
       "      <td>1378.505000</td>\n",
       "      <td>1378.505000</td>\n",
       "      <td>...</td>\n",
       "      <td>1378.505000</td>\n",
       "      <td>1378.505000</td>\n",
       "      <td>1378.505000</td>\n",
       "      <td>1378.505000</td>\n",
       "      <td>1378.505000</td>\n",
       "      <td>1378.505000</td>\n",
       "      <td>1378.505000</td>\n",
       "      <td>1378.505000</td>\n",
       "      <td>1378.505000</td>\n",
       "      <td>1378.505000</td>\n",
       "    </tr>\n",
       "  </tbody>\n",
       "</table>\n",
       "<p>5 rows × 35 columns</p>\n",
       "</div>"
      ],
      "text/plain": [
       "    planta ingrediente  cantidad  capacidad       20231130       20231201  \\\n",
       "0  barbosa      frijol  123619.2   204000.0       0.000000       0.000000   \n",
       "1  barbosa      gluten       1.0    40000.0     253.183667     253.183667   \n",
       "2  barbosa        maiz  388388.6   408000.0  141663.030000  141663.030000   \n",
       "3  barbosa       tsoya  117787.0   204000.0   45964.794000   45964.794000   \n",
       "4   bmanga  cascarilla       1.0    34000.0    1378.505000    1378.505000   \n",
       "\n",
       "        20231202       20231203       20231204       20231205  ...  \\\n",
       "0       0.000000       0.000000       0.000000       0.000000  ...   \n",
       "1     253.183667     253.183667     253.183667     253.183667  ...   \n",
       "2  141663.030000  141663.030000  141663.030000  141663.030000  ...   \n",
       "3   45964.794000   45964.794000   45964.794000   45964.794000  ...   \n",
       "4    1378.505000    1378.505000    1378.505000    1378.505000  ...   \n",
       "\n",
       "        20231221       20231222       20231223       20231224       20231225  \\\n",
       "0       0.000000       0.000000       0.000000       0.000000       0.000000   \n",
       "1     253.183667     253.183667     253.183667     253.183667     253.183667   \n",
       "2  141663.030000  141663.030000  141663.030000  141663.030000  141663.030000   \n",
       "3   45964.794000   45964.794000   45964.794000   45964.794000   45964.794000   \n",
       "4    1378.505000    1378.505000    1378.505000    1378.505000    1378.505000   \n",
       "\n",
       "        20231226       20231227       20231228       20231229       20231230  \n",
       "0       0.000000       0.000000       0.000000       0.000000       0.000000  \n",
       "1     253.183667     253.183667     253.183667     253.183667     253.183667  \n",
       "2  141663.030000  141663.030000  141663.030000  141663.030000  141663.030000  \n",
       "3   45964.794000   45964.794000   45964.794000   45964.794000   45964.794000  \n",
       "4    1378.505000    1378.505000    1378.505000    1378.505000    1378.505000  \n",
       "\n",
       "[5 rows x 35 columns]"
      ]
     },
     "execution_count": 172,
     "metadata": {},
     "output_type": "execute_result"
    }
   ],
   "source": [
    "unidades_almacenamiento_df['capacidad'] = unidades_almacenamiento_df.apply(lambda x: x[x['ingrediente_actual']] ,axis=1)\n",
    "unidades_almacenamiento_df.drop(columns=productos, inplace=True)\n",
    "unidades_almacenamiento_df = unidades_almacenamiento_df.groupby(['planta', 'ingrediente_actual'])[['cantidad_actual', 'capacidad']].sum().reset_index()\n",
    "# Generar un diccionario para renombrar las columnas de tiempo en consumo proyectado\n",
    "consumo_proyectado_renamer = {x:datetime.strptime(x, '%d/%m/%Y').strftime('%Y%m%d') for x in consumo_proyectado_df.drop(columns=['planta', 'ingrediente']).columns}\n",
    "# Efectuar el cambio de nombre\n",
    "consumo_proyectado_df.rename(columns=consumo_proyectado_renamer, inplace=True)\n",
    "# Unir con el consumo proyectado\n",
    "unidades_almacenamiento_df = pd.merge(left=unidades_almacenamiento_df,\n",
    "                                 right=consumo_proyectado_df,\n",
    "                                 left_on=['planta', 'ingrediente_actual'],\n",
    "                                 right_on=['planta', 'ingrediente'],\n",
    "                                 how='left').drop(columns=['ingrediente']).rename(columns={'ingrediente_actual': 'ingrediente', 'cantidad_actual':'cantidad'}).fillna(0.0)\n",
    "\n",
    "print(unidades_almacenamiento_df.shape)\n",
    "unidades_almacenamiento_df.head()"
   ]
  },
  {
   "cell_type": "code",
   "execution_count": 173,
   "metadata": {},
   "outputs": [],
   "source": [
    "# Llenar la informacion de los inventarios\n",
    "for i in unidades_almacenamiento_df.index:\n",
    "    planta = unidades_almacenamiento_df.loc[i]['planta']\n",
    "    ingrediente = unidades_almacenamiento_df.loc[i]['ingrediente']\n",
    "    cantidad_inicial = unidades_almacenamiento_df.loc[i]['cantidad']\n",
    "    capacidad_almacenamiento = unidades_almacenamiento_df.loc[i]['capacidad']\n",
    "\n",
    "    if not 'inventarios' in plantas[planta].keys():\n",
    "        plantas[planta]['inventarios'] = dict()\n",
    "\n",
    "    if not ingrediente in plantas[planta]['inventarios'].keys():\n",
    "        plantas[planta]['inventarios'][ingrediente] = dict()\n",
    "\n",
    "    if not 'capacidad' in plantas[planta]['inventarios'][ingrediente].keys():\n",
    "        plantas[planta]['inventarios'][ingrediente]['capacidad'] = capacidad_almacenamiento\n",
    "\n",
    "    if not 'inventario_final' in plantas[planta]['inventarios'][ingrediente].keys():\n",
    "        plantas[planta]['inventarios'][ingrediente]['inventario_final'] = dict()\n",
    "\n",
    "    if not 'llegadas' in plantas[planta]['inventarios'][ingrediente].keys():\n",
    "        plantas[planta]['inventarios'][ingrediente]['llegadas'] = dict()\n",
    "\n",
    "    if not 'consumo' in plantas[planta]['inventarios'][ingrediente].keys():\n",
    "        plantas[planta]['inventarios'][ingrediente]['consumo'] = dict()\n",
    "\n",
    "    if not 'backorder' in plantas[planta]['inventarios'][ingrediente].keys():\n",
    "        plantas[planta]['inventarios'][ingrediente]['backorder'] = dict()\n",
    "\n",
    "    plantas[planta]['inventarios'][ingrediente]['inventario_final'][periodo_anterior] = cantidad_inicial\n",
    "\n",
    "    consumo_total = sum([unidades_almacenamiento_df.loc[i][str(t)] for t in periodos])\n",
    "\n",
    "    if consumo_total > 0:\n",
    "        for periodo in periodos:\n",
    "            # Agregar las variables de inventario\n",
    "            transporte_var_name = f'I_{planta}_{ingrediente}_{periodo}'\n",
    "            transporte_var = pu.LpVariable(name=transporte_var_name, lowBound=0.0, cat=pu.LpContinuous)\n",
    "            plantas[planta]['inventarios'][ingrediente]['inventario_final'][periodo] = transporte_var  \n",
    "\n",
    "            # Agregar las listas a donde llegarán los transportes\n",
    "            plantas[planta]['inventarios'][ingrediente]['llegadas'][periodo] = list()\n",
    "\n",
    "            # Agregar las variables de backorder\n",
    "            bak_var_name = f'B_{planta}_{ingrediente}_{periodo}'\n",
    "            bak_var = pu.LpVariable(name=bak_var_name, lowBound=0.0, cat=pu.LpContinuous)\n",
    "            plantas[planta]['inventarios'][ingrediente]['backorder'][periodo] = bak_var\n",
    "\n",
    "            # Agregar el consumo proyectado\n",
    "            consumo = unidades_almacenamiento_df.loc[i][str(periodo)]\n",
    "            plantas[planta]['inventarios'][ingrediente]['consumo'][periodo] = consumo\n",
    "    else:\n",
    "        for periodo in periodos:\n",
    "            # Dejar el inventario en el estado actual\n",
    "            plantas[planta]['inventarios'][ingrediente]['inventario_final'][periodo] = cantidad_inicial  \n",
    "\n",
    "            # Agregar el consumo proyectado\n",
    "            consumo = unidades_almacenamiento_df.loc[i][str(periodo)]\n",
    "            plantas[planta]['inventarios'][ingrediente]['consumo'][periodo] = consumo\n"
   ]
  },
  {
   "cell_type": "code",
   "execution_count": 174,
   "metadata": {},
   "outputs": [
    {
     "data": {
      "text/plain": [
       "dict_keys(['cascarilla', 'destilado', 'destiladohp', 'forraje', 'frijol', 'gluten', 'maiz', 'tgirasol', 'trigo', 'tsoya'])"
      ]
     },
     "execution_count": 174,
     "metadata": {},
     "output_type": "execute_result"
    }
   ],
   "source": [
    "plantas['envigado']['inventarios'].keys()"
   ]
  },
  {
   "cell_type": "markdown",
   "metadata": {},
   "source": [
    "### Cargas en Puerto"
   ]
  },
  {
   "cell_type": "code",
   "execution_count": 175,
   "metadata": {},
   "outputs": [],
   "source": [
    "# Generar Cargas\n",
    "cargas = dict()\n",
    "\n",
    "# A partir de los transitos\n",
    "for i in transitos_df.index:\n",
    "    importacion = str(transitos_df.loc[i]['importacion']).replace(' ','')\n",
    "    empresa = transitos_df.loc[i]['empresa']\n",
    "    operador = transitos_df.loc[i]['operador']\n",
    "    puerto = transitos_df.loc[i]['puerto']\n",
    "    ingrediente = transitos_df.loc[i]['ingrediente']\n",
    "    cantidad_kg = transitos_df.loc[i]['cantidad_kg']\n",
    "    valor_cif = transitos_df.loc[i]['valor_kg']\n",
    "    fecha = transitos_df.loc[i]['fecha_llegada']\n",
    "    if not importacion in cargas.keys():\n",
    "        cargas[importacion] = dict()\n",
    "    \n",
    "    cargas[importacion]['empresa'] = empresa\n",
    "    cargas[importacion]['operador'] = operador\n",
    "    cargas[importacion]['puerto'] = puerto\n",
    "    cargas[importacion]['ingrediente'] = ingrediente\n",
    "    cargas[importacion]['valor_cif'] = valor_cif\n",
    "    cargas[importacion]['inventario_inicial'] = 0\n",
    "    cargas[importacion]['costo_almacenamiento'] = {int(t.strftime('%Y%m%d')):0 for t in fechas}\n",
    "    cargas[importacion]['llegadas'] = dict()\n",
    "    cargas[importacion]['fecha_inicial'] = int(fecha.strftime('%Y%m%d'))\n",
    "    \n",
    "    # Poner llegadas de materia\n",
    "    while cantidad_kg > cap_descarge:\n",
    "        cargas[importacion]['llegadas'][int(fecha.strftime('%Y%m%d'))] = cap_descarge\n",
    "        cantidad_kg -= cap_descarge\n",
    "        fecha = fecha + timedelta(days=1)\n",
    "    \n",
    "    if cantidad_kg > 0:\n",
    "        cargas[importacion]['llegadas'][int(fecha.strftime('%Y%m%d'))] = cantidad_kg\n",
    "    cargas[importacion]['fecha_final'] = int(fecha.strftime('%Y%m%d'))\n",
    "\n",
    "    # Agregar las variables de inventario\n",
    "    cargas[importacion]['inventario_al_final'] = dict()\n",
    "    for t in periodos:\n",
    "        var_name = f\"O_{importacion}_{t}\"\n",
    "        lp_var = pu.LpVariable(name=var_name,\n",
    "                               lowBound=0.0,\n",
    "                               upBound=transitos_df.loc[i]['cantidad_kg'],\n",
    "                               cat=pu.LpContinuous)\n",
    "        cargas[importacion]['inventario_al_final'][t]=lp_var\n",
    "    \n",
    "# A Partir de los inventarios en puerto    \n",
    "for i in inventario_puerto_df.index:\n",
    "    empresa = inventario_puerto_df.loc[i]['empresa']\n",
    "    operador = inventario_puerto_df.loc[i]['operador']\n",
    "    puerto = inventario_puerto_df.loc[i]['puerto']\n",
    "    ingrediente = inventario_puerto_df.loc[i]['ingrediente']\n",
    "    importacion = str(inventario_puerto_df.loc[i]['importacion']).replace(' ','')\n",
    "    inventario_inicial = inventario_puerto_df.loc[i]['cantidad_kg']\n",
    "    valor_cif = inventario_puerto_df.loc[i]['valor_cif_kg']\n",
    "    fecha = inventario_puerto_df.loc[i]['fecha_llegada']\n",
    "\n",
    "    if not importacion in cargas.keys():\n",
    "        cargas[importacion] = dict()\n",
    "    \n",
    "    cargas[importacion]['empresa'] = empresa\n",
    "    cargas[importacion]['operador'] = operador\n",
    "    cargas[importacion]['puerto'] = puerto\n",
    "    cargas[importacion]['ingrediente'] = ingrediente\n",
    "    cargas[importacion]['valor_cif'] = valor_cif\n",
    "    cargas[importacion]['inventario_inicial'] = inventario_inicial\n",
    "    cargas[importacion]['costo_almacenamiento'] = {int(t.strftime('%Y%m%d')):0 for t in fechas}\n",
    "\n",
    "    # Poner llegadas de materia\n",
    "    cargas[importacion]['llegadas'] = {t.strftime('%Y%m%d'):0 for t in fechas}\n",
    "    \n",
    "    cargas[importacion]['fecha_inicial'] = int(fecha.strftime('%Y%m%d'))\n",
    "    cargas[importacion]['fecha_final'] = int(fecha.strftime('%Y%m%d'))\n",
    "    # Agregar las variables de inventario\n",
    "    cargas[importacion]['inventario_al_final'] = dict()\n",
    "\n",
    "    for t in periodos:\n",
    "\n",
    "        var_name = f\"O_{importacion}_{t}\"\n",
    "        lp_var = pu.LpVariable(name=var_name,\n",
    "                               lowBound=0.0,\n",
    "                               upBound=inventario_puerto_df.loc[i]['cantidad_kg'],\n",
    "                               cat=pu.LpContinuous)\n",
    "        cargas[importacion]['inventario_al_final'][t]=lp_var\n",
    "    "
   ]
  },
  {
   "cell_type": "code",
   "execution_count": 176,
   "metadata": {},
   "outputs": [],
   "source": [
    "# Agregar costos de almacenamiento a cada carga\n",
    "for i in costos_almacenamiento_df.index:\n",
    "    importacion = costos_almacenamiento_df.loc[i]['importacion']\n",
    "    fecha = int(costos_almacenamiento_df.loc[i]['fecha_corte'].strftime('%Y%m%d'))\n",
    "    valor_kg = costos_almacenamiento_df.loc[i]['valor_kg']\n",
    "\n",
    "    if importacion in cargas.keys():\n",
    "        cargas[importacion]['costo_almacenamiento'][fecha] += valor_kg"
   ]
  },
  {
   "cell_type": "code",
   "execution_count": 177,
   "metadata": {},
   "outputs": [],
   "source": [
    "# Agregar costos de bodegaje cuando es un producto en tránsito a puerto a cada carga\n",
    "for importacion, carga in cargas.items():\n",
    "    index = ('bodega', carga['operador'], carga['puerto'], carga['ingrediente'])\n",
    "    valor_kg = operaciones_portuarias_df.loc[index]['valor_kg']\n",
    "    if carga['fecha_inicial'] >= int(fechas[0].strftime('%Y%m%d')) and carga['fecha_final'] <= int(fechas[-1].strftime('%Y%m%d')):\n",
    "        carga['costo_almacenamiento'][carga['fecha_final']] += valor_kg"
   ]
  },
  {
   "cell_type": "code",
   "execution_count": 178,
   "metadata": {},
   "outputs": [],
   "source": [
    "intercompany_df = intercompany_df.melt(id_vars='origen',\n",
    "                                       value_vars=['contegral', 'finca'],\n",
    "                                       var_name='destino',\n",
    "                                       value_name='intercompany')\n",
    "\n",
    "intercompany_df.set_index(['origen', 'destino'], inplace=True)"
   ]
  },
  {
   "cell_type": "code",
   "execution_count": 179,
   "metadata": {},
   "outputs": [],
   "source": [
    "# Encontrar el costo total de transporte por kilogramo\n",
    "fletes_df = fletes_df.melt(id_vars=['puerto', 'operador', 'ingrediente'],\n",
    "                           value_vars=list(plantas.keys()),\n",
    "                           value_name='costo_per_kg',\n",
    "                           var_name='planta')\n",
    "\n",
    "# Calcular valor del flete\n",
    "fletes_df['flete'] = cap_camion*fletes_df['costo_per_kg']\n",
    "\n",
    "fletes_df = pd.merge(left=fletes_df,\n",
    "                     right=plantas_df[['planta', 'empresa']],\n",
    "                     left_on='planta',\n",
    "                     right_on='planta')\n",
    "\n",
    "fletes_df.set_index(['puerto', 'operador', 'ingrediente', 'planta'], inplace=True)"
   ]
  },
  {
   "cell_type": "markdown",
   "metadata": {},
   "source": [
    "*Nota:* evitar crear variables de transporte si la capacidad de almacenamiento de la planta es 0 o e consumo es 0 "
   ]
  },
  {
   "cell_type": "code",
   "execution_count": 180,
   "metadata": {},
   "outputs": [],
   "source": [
    "# Informacion de transporte\n",
    "for importacion, carga in cargas.items():\n",
    "    puerto = carga['puerto']\n",
    "    operador = carga['operador']\n",
    "    ingrediente = carga['ingrediente']\n",
    "    costo_envio = dict() \n",
    "\n",
    "    for nombre_planta, planta in plantas.items():\n",
    "        empresa_destino = planta['empresa']\n",
    "        costo_intercompany = intercompany_df.loc[(carga['empresa'], empresa_destino)]['intercompany']\n",
    "        valor_intercompany = cap_camion*carga['valor_cif']*(costo_intercompany)\n",
    "        flete = fletes_df.loc[(puerto,operador,ingrediente,nombre_planta)]['flete']\n",
    "        valor_despacho_directo_kg = cap_camion*operaciones_portuarias_df.loc[('directo', operador, puerto, ingrediente)]['valor_kg']\n",
    "\n",
    "        # Costo de flete\n",
    "        costo_envio[nombre_planta] = dict()\n",
    "        costo_envio[nombre_planta]['intercompany'] = costo_intercompany\n",
    "        costo_envio[nombre_planta]['flete'] = flete\n",
    "        costo_envio[nombre_planta]['cantidad_despacho'] = cap_camion\n",
    "        costo_envio[nombre_planta]['valor_intercompany'] = valor_intercompany\n",
    "        costo_envio[nombre_planta]['costo_despacho_directo'] = valor_despacho_directo_kg\n",
    "\n",
    "        costo_envio[nombre_planta]['costo_envio'] = dict()\n",
    "        costo_envio[nombre_planta]['tipo_envio'] = dict()\n",
    "        costo_envio[nombre_planta]['variable_despacho'] = dict()\n",
    "\n",
    "        # Los transportes solo tienen sentido desde el periodo 3 y hasta leadtime dias antes del lead time\n",
    "        periodo_inicial = 3\n",
    "        lead_time = 2\n",
    "        periodo_final = periodos.index(periodos[-1])-lead_time+1\n",
    "\n",
    "        for periodo in periodos[3:periodo_final]:\n",
    "            # Si el periodo esta entre la fecha de llegada, colocar operacion portuaria por despacho directo.\n",
    "            if periodo >= carga['fecha_inicial'] and periodo <= carga['fecha_final']:\n",
    "                costo_envio[nombre_planta]['costo_envio'][periodo] = valor_intercompany + flete + valor_despacho_directo_kg\n",
    "                costo_envio[nombre_planta]['tipo_envio'][periodo] = 'directo'\n",
    "                \n",
    "            else:\n",
    "                costo_envio[nombre_planta]['costo_envio'][periodo] = valor_intercompany + flete\n",
    "                costo_envio[nombre_planta]['tipo_envio'][periodo] = 'indirecto'\n",
    "\n",
    "            # Variable de transporte\n",
    "                \n",
    "            # Antes de crear las variables de transporte, es importante saber si la planta tiene consumo del ingrediente\n",
    "            if ingrediente in planta['inventarios'].keys():            \n",
    "\n",
    "                consumo_total = sum([c for p,c in planta['inventarios'][ingrediente]['consumo'].items()])\n",
    "\n",
    "                if consumo_total > 0:\n",
    "\n",
    "                    transporte_var_name = f'T_{importacion}_{nombre_planta}_{periodo}'\n",
    "                    transporte_var = pu.LpVariable(name=transporte_var_name,\n",
    "                                        lowBound=0,\n",
    "                                        cat=pu.LpInteger)\n",
    "                    \n",
    "                    costo_envio[nombre_planta]['variable_despacho'][periodo] = transporte_var\n",
    "\n",
    "                    # Colocar la variable en la planta dos periodos despues\n",
    "                    periodo_llegada = periodos[periodos.index(periodo)+lead_time]\n",
    "                    plantas[nombre_planta]['inventarios'][ingrediente]['llegadas'][periodo_llegada].append(transporte_var)           \n",
    "\n",
    "\n",
    "        carga['costo_despacho'] = costo_envio\n",
    "        "
   ]
  },
  {
   "cell_type": "markdown",
   "metadata": {},
   "source": [
    "## Sets:\n",
    "\n",
    "$t$: periodos con $t \\in T$\n",
    "\n",
    "$p$: productos con $p \\in P$\n",
    "\n",
    "$i$: cargas con $i \\in T$\n",
    "\n",
    "$j$: plantas con $j \\in J$"
   ]
  },
  {
   "cell_type": "markdown",
   "metadata": {},
   "source": [
    "\n",
    "## Parametros:\n",
    "\n",
    "$CT_{ij}$: Costo de transportar la carga $i$ hacia la planta $j$\n",
    "\n",
    "$CA_{it}$: Costo de mantener la carga $i$ almacenada al final del periodo $p$\n",
    "\n",
    "$AR_{it}$: Cantidad de producto llegando a la carga $i$ durante el periodo $p$\n",
    "\n",
    "$DM_{pjt}$: Demanda del producto $p$ en la planta $j$ durante el periodo $t$\n",
    "\n",
    "$IP_{i}$: Inventario inicial de la carga $i$\n",
    "\n",
    "$TJ_{pjt}$: Cantidad programada del producto $p$ llegando a la planta $j$ durante el periodo $t$ \n",
    "\n",
    "$IJ_{pj}$: Inventario inicial de producto $p$ en la planta $j$ \n",
    "\n",
    "$MI_{pjt}$: Inventario mínimo a mantener del producto $p$ en la planta $j$ al final del periodo $t$\n",
    "\n",
    "$MX_{pjt}$: Inventario máximo a mantener del producto $p$ en la planta $j$ al final del periodo $t$\n"
   ]
  },
  {
   "cell_type": "markdown",
   "metadata": {},
   "source": [
    "## Diccionarios\n",
    "\n",
    "Carga[i][Producto]: Producto que contiene la carga i\n",
    "\n",
    "Carga[i][Inventario_Inicial]: Inventario Inicial de la carga i\n",
    " "
   ]
  },
  {
   "cell_type": "markdown",
   "metadata": {},
   "source": [
    "\n",
    "## Variables:\n",
    "\n",
    "$T_{ijt}$: Variable entera, Cantidad de camiones de 34 Toneladas a despachar de la carga $i$ hasta la planta $j$ durante el periodo $t$\n",
    "\n",
    "$O_{it}$: Continua, Cantidad de toneladas de la carga $i$ almacenadas al final del periodo $t$\n",
    "\n",
    "$I_{pjt}$: Cantidad del producto $p$ almacenado en la planta $j$ al final del periodo $t$\n",
    "\n",
    "$B_{pjt}$: Cantidad del producto $p$ de backorder en la planta $j$ al final del periodo $t$\n",
    "\n",
    "$M_{pjt}$: Unidades de exceso del producto $p$ en la planta $j$ al final del periodo $t$ sobre el inventario objetivo\n",
    "\n",
    "$X_{pjt}$: Unidades por debajo del producto $p$ en la planta $j$ al final del periodo $t$ bajo el inventario objetivo\n"
   ]
  },
  {
   "cell_type": "markdown",
   "metadata": {},
   "source": [
    "\n",
    "## Funcion Objetivo:\n",
    "\n",
    "$$min \\sum_{i}\\sum_{j}\\sum_{t}{CT_{ijt}*T_{ijt}} + \\sum_{i}\\sum_{t}CA_{it}O_{it} + PP \\sum_{M}\\sum_{P}\\sum_{J}{M_{mpj}} + PP \\sum_{M}\\sum_{P}\\sum_{J}{X_{mpj}}$$"
   ]
  },
  {
   "cell_type": "code",
   "execution_count": 181,
   "metadata": {},
   "outputs": [],
   "source": [
    "funcion_objetivo = list()"
   ]
  },
  {
   "cell_type": "markdown",
   "metadata": {},
   "source": [
    "### Costo por transporte\n",
    "\n",
    "El costo del transporte esta dado por el producto escalar entre los costos de envio, que ya incluyen fletes, costos porturarios y costos intercompany\n",
    "\n",
    "$$\\sum_{i}\\sum_{j}\\sum_{t}{CT_{ijt}*T_{ijt}}$$"
   ]
  },
  {
   "cell_type": "code",
   "execution_count": 182,
   "metadata": {},
   "outputs": [],
   "source": [
    "for periodo in periodos:\n",
    "    for impo, carga in cargas.items():\n",
    "        for nombre_planta, planta in plantas.items():\n",
    "            if periodo in carga['costo_despacho'][nombre_planta]['variable_despacho'].keys():\n",
    "                costo_envio = carga['costo_despacho'][nombre_planta]['costo_envio'][periodo]\n",
    "                var_envio = carga['costo_despacho'][nombre_planta]['variable_despacho'][periodo]\n",
    "                # CT_ijt*T_ijt\n",
    "                funcion_objetivo.append(costo_envio*var_envio)\n"
   ]
  },
  {
   "cell_type": "markdown",
   "metadata": {},
   "source": [
    "$\\sum_{i}\\sum_{t}CA_{it}O_{it}$"
   ]
  },
  {
   "cell_type": "code",
   "execution_count": 183,
   "metadata": {},
   "outputs": [],
   "source": [
    "for periodo in periodos:\n",
    "    for impo, carga in cargas.items():\n",
    "        costo_almaenamiento = carga['costo_almacenamiento'][periodo]\n",
    "        inventario_al_final = carga['inventario_al_final'][periodo]\n",
    "        if costo_almaenamiento > 0:\n",
    "            funcion_objetivo.append(costo_almaenamiento*inventario_al_final)\n"
   ]
  },
  {
   "cell_type": "markdown",
   "metadata": {},
   "source": [
    "Pendiente las penalizaciones"
   ]
  },
  {
   "cell_type": "markdown",
   "metadata": {},
   "source": [
    "## Restricciones:\n",
    "\n",
    "### Balance de masa en cargas\n",
    "\n",
    "El inventario al final del periodo es igual a:\n",
    "\n",
    "- el inventario al final del periodo anterior;\n",
    "- más las llegadas planeadas;\n",
    "- menos los despachos hacia plantas\n",
    "\n",
    "$$ O_{it} =  O_{i(t-1)} + AR_{it} - 34000\\sum_{J}{T_{ijt}} \\hspace{1cm} \\forall i \\in I, t \\in T$$"
   ]
  },
  {
   "cell_type": "code",
   "execution_count": 209,
   "metadata": {},
   "outputs": [],
   "source": [
    "rest_balance_masa_puerto = list()\n",
    "\n",
    "for impo, carga in cargas.items():\n",
    "    for periodo in periodos:\n",
    "\n",
    "        left = list()\n",
    "        right = list()\n",
    "        \n",
    "        # Oit\n",
    "        Oit = carga['inventario_al_final'][periodo]\n",
    "        left.append(Oit)\n",
    "\n",
    "        # Oi(t-1)\n",
    "        if periodo == periodos[0]:\n",
    "            Oitant = carga['inventario_inicial']\n",
    "        else:\n",
    "            t_anterior = periodos[periodos.index(periodo)-1]\n",
    "            Oitant = carga['inventario_al_final'][t_anterior]\n",
    "        right.append(Oitant)\n",
    "\n",
    "        # ARit\n",
    "        if periodo in carga['llegadas'].keys():\n",
    "            ar = carga['llegadas'][periodo]\n",
    "            right.append(ar)\n",
    "\n",
    "        # - 34000*Sum(Tijt)\n",
    "        for planta, despacho in carga['costo_despacho'].items():            \n",
    "            if periodo in despacho['variable_despacho'].keys():\n",
    "                var_despacho = despacho['variable_despacho'][periodo]\n",
    "                left.append(cap_camion*var_despacho)\n",
    "        \n",
    "        \n",
    "        name = f'balance_masa_{importacion}_al_final_de_{t}'\n",
    "        rest = (pu.lpSum(left) == pu.lpSum(right), name)\n",
    "\n",
    "        rest_balance_masa_puerto.append(rest)\n"
   ]
  },
  {
   "cell_type": "markdown",
   "metadata": {},
   "source": [
    "### Balance de masa en plantas\n",
    "\n",
    "El inventario en planta al final del periodo es igual a:\n",
    "\n",
    "- el inventario al final del periodo anterior;\n",
    "- más las llegadas ya programadas;\n",
    "- más las llegadas planeadas;\n",
    "- menos la demanda\n",
    "- más el backorder, que compensa cuando el inventario más las llegadas no son suficientes\n",
    "\n",
    "$$ I_{pjt} = I_{pj(t-1)} + TJ_{pjt} + \\sum_{i}{T_{ij(t-2)}} -  DM_{pjt} + B_{pjt} \\hspace{1cm} \\forall p \\in P, j \\in J, t \\in T$$\n"
   ]
  },
  {
   "cell_type": "code",
   "execution_count": null,
   "metadata": {},
   "outputs": [],
   "source": [
    "for p in productos:\n",
    "    for j in plantas:\n",
    "        for t in periodos:\n",
    "\n",
    "            left = list()\n",
    "            right = list()\n",
    "\n",
    "            # Ipjt\n",
    "            left.append(I[p][j][t])\n",
    "\n",
    "            # Ipj(t-1)\n",
    "            if t == 0:\n",
    "                right.append(IJ[p][j])\n",
    "            else:\n",
    "                right.append(I[p][j[t-1]])\n",
    "            \n",
    "            # + Tijt\n",
    "            for i in cargas:\n",
    "                if ingrediente[i]==p:\n",
    "                    right.append(T[i][j][t])\n",
    "\n",
    "            # - DMpjt\n",
    "            left.append(DM[p][j][t])\n",
    "\n",
    "            name = f'balance_planta_{j}_de_{p}_al_final_de_{t}'\n",
    "            rest = (pu.lpSum(left) == pu.lpSum(right))\n",
    "\n",
    "            problema.addConstraint(constraint=rest, name=name)"
   ]
  },
  {
   "cell_type": "markdown",
   "metadata": {},
   "source": [
    "### No superar el inventario máximo\n",
    "\n",
    "El inventario al final de un día cualquiera debe estar bajo el nivel máximo, por lo que penalizaremos en la función objetivo una variable de holgura para tal efecto\n",
    "$$ I_{pjt} \\leq MX_{pjt} + M_{pjt} \\hspace{1cm} \\forall p \\in P, j \\in J, t \\in T$$"
   ]
  },
  {
   "cell_type": "markdown",
   "metadata": {},
   "source": [
    "### Superar el inventario mínimo\n",
    "\n",
    "El inventario al final de un día cualquiera debe estar bajo el nivel máximo, por lo que penalizaremos en la función objetivo una variable de holgura para tal efecto\n",
    "$$ I_{pjt} \\geq MX_{pjt} + M_{pjt} \\hspace{1cm} \\forall p \\in P, j \\in J, t \\in T$$"
   ]
  },
  {
   "cell_type": "markdown",
   "metadata": {},
   "source": [
    "### Capacidad de recepción por planta\n",
    "\n",
    "En una planta y un periodo en particular, la suma del producto entre el tiempo del ingrediente y la cantidad de camiones llegando no debe superar el tiempo total disponible en la planta\n",
    "\n",
    "$$ \\sum_{I}{TiempoIngrediente_{pj}*T_{ijt}} \\leq TiempoTotal \\hspace{1cm} \\forall p \\in P, t \\in T$$"
   ]
  }
 ],
 "metadata": {
  "kernelspec": {
   "display_name": "env",
   "language": "python",
   "name": "python3"
  },
  "language_info": {
   "codemirror_mode": {
    "name": "ipython",
    "version": 3
   },
   "file_extension": ".py",
   "mimetype": "text/x-python",
   "name": "python",
   "nbconvert_exporter": "python",
   "pygments_lexer": "ipython3",
   "version": "3.11.4"
  }
 },
 "nbformat": 4,
 "nbformat_minor": 2
}
