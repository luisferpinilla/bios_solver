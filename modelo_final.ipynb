{
 "cells": [
  {
   "cell_type": "markdown",
   "metadata": {
    "tags": [
     "parameters"
    ]
   },
   "source": [
    "# Modelo BIOS:"
   ]
  },
  {
   "cell_type": "markdown",
   "metadata": {},
   "source": [
    "## Importacion de Librerias"
   ]
  },
  {
   "cell_type": "code",
   "execution_count": null,
   "metadata": {},
   "outputs": [],
   "source": [
    "import pandas as pd\n",
    "from datetime import datetime, timedelta\n",
    "import pulp as pu\n",
    "from problema.asignador_capacidad import AsignadorCapacidad\n",
    "import os"
   ]
  },
  {
   "cell_type": "markdown",
   "metadata": {},
   "source": [
    "## Parametros generales"
   ]
  },
  {
   "cell_type": "code",
   "execution_count": null,
   "metadata": {},
   "outputs": [],
   "source": [
    "file = '0_model_template_0131_v2.xlsm'\n",
    "\n",
    "# Capacidad de carga de un camion\n",
    "cap_camion = 34000\n",
    "\n",
    "# Capacidad de descarga en puerto por día\n",
    "cap_descarge = 5000000\n",
    "\n",
    "# Costo de backorder por dia\n",
    "costo_backorder_dia = 250000\n",
    "\n",
    "# Costo exceso de inventario\n",
    "costo_exceso_capacidad = 5000000\n",
    "\n",
    "# Costo de no safety stock por día\n",
    "costo_safety_stock = 50000\n",
    "\n",
    "# Los transportes solo tienen sentido desde el periodo 3, es dificil tomar deciciones para el mismo día\n",
    "periodo_administrativo = 3\n",
    "\n",
    "# Asumimos qe todo despacho tarda 2 días desde el momento que se envía la carga hasta que esta disponible para el consumo en planta\n",
    "lead_time = 2"
   ]
  },
  {
   "cell_type": "markdown",
   "metadata": {},
   "source": [
    "## Lectura de dataframes"
   ]
  },
  {
   "cell_type": "code",
   "execution_count": null,
   "metadata": {},
   "outputs": [],
   "source": [
    "# Leer el archivo de excel\n",
    "productos_df = pd.read_excel(io=file, sheet_name='ingredientes')\n",
    "plantas_df = pd.read_excel(io=file, sheet_name='plantas')\n",
    "asignador = AsignadorCapacidad(file)\n",
    "unidades_almacenamiento_df = asignador.obtener_unidades_almacenamiento()\n",
    "safety_stock_df = pd.read_excel(io=file, sheet_name='safety_stock')\n",
    "consumo_proyectado_df = pd.read_excel(io=file, sheet_name='consumo_proyectado')\n",
    "transitos_puerto_df = pd.read_excel(io=file, sheet_name='tto_puerto')\n",
    "# transitos_planta_df = pd.read_excel(io=file, sheet_name='tto_plantas')\n",
    "inventario_puerto_df = pd.read_excel(io=file, sheet_name='inventario_puerto')\n",
    "costos_almacenamiento_df = pd.read_excel(io=file, sheet_name='costos_almacenamiento_cargas')\n",
    "operaciones_portuarias_df = pd.read_excel(io=file, sheet_name='costos_operacion_portuaria')\n",
    "operaciones_portuarias_df = operaciones_portuarias_df.set_index(['tipo_operacion', 'operador', 'puerto', 'ingrediente'])\n",
    "fletes_df = pd.read_excel(io=file, sheet_name='fletes_cop_per_kg')\n",
    "intercompany_df = pd.read_excel(io=file, sheet_name='venta_entre_empresas')"
   ]
  },
  {
   "cell_type": "markdown",
   "metadata": {},
   "source": [
    "## Creacion de parametros del problema"
   ]
  },
  {
   "cell_type": "markdown",
   "metadata": {},
   "source": [
    "### Tiempo"
   ]
  },
  {
   "cell_type": "code",
   "execution_count": null,
   "metadata": {},
   "outputs": [],
   "source": [
    "# Obtener el conjunto de periodos\n",
    "fechas = [datetime.strptime(x, '%d/%m/%Y') for x in consumo_proyectado_df.drop(columns=['planta', 'ingrediente']).columns]\n",
    "\n",
    "periodos = [int(x.strftime('%Y%m%d')) for x in fechas]\n",
    "\n",
    "periodo_anterior = fechas[0] - timedelta(days=1)\n",
    "periodo_anterior = int(periodo_anterior.strftime('%Y%m%d'))\n",
    "\n",
    "print(periodo_anterior,  periodos[0],periodos[-1])"
   ]
  },
  {
   "cell_type": "markdown",
   "metadata": {},
   "source": [
    "### Productos"
   ]
  },
  {
   "cell_type": "code",
   "execution_count": null,
   "metadata": {},
   "outputs": [],
   "source": [
    "productos = [productos_df.loc[i]['nombre'] for i in productos_df.index]"
   ]
  },
  {
   "cell_type": "markdown",
   "metadata": {},
   "source": [
    "### Plantas"
   ]
  },
  {
   "cell_type": "markdown",
   "metadata": {},
   "source": [
    "#### Tiempo de descarge de materiales"
   ]
  },
  {
   "cell_type": "code",
   "execution_count": null,
   "metadata": {},
   "outputs": [],
   "source": [
    "# Generar plantas\n",
    "plantas = dict()\n",
    "\n",
    "for j in plantas_df.index:\n",
    "    planta = plantas_df.loc[j]['planta']\n",
    "    empresa = plantas_df.loc[j]['empresa']\n",
    "    operacion_minutos = plantas_df.loc[j]['operacion_minutos']*plantas_df.loc[j]['plataformas']\n",
    "    plantas[planta] = dict()\n",
    "    plantas[planta]['empresa'] = empresa\n",
    "    plantas[planta]['tiempo_total'] = operacion_minutos\n",
    "    plantas[planta]['tiempo_ingrediente'] = dict()\n",
    "    plantas[planta]['llegadas_puerto'] = dict()\n",
    "\n",
    "    for p in productos:\n",
    "        t_ingrediente = plantas_df.loc[j][p]\n",
    "        plantas[planta]['tiempo_ingrediente'][p] = t_ingrediente\n",
    "        plantas[planta]['llegadas_puerto'][p] = {t:list() for t in periodos}"
   ]
  },
  {
   "cell_type": "markdown",
   "metadata": {},
   "source": [
    "#### Inventario en Planta"
   ]
  },
  {
   "cell_type": "code",
   "execution_count": null,
   "metadata": {},
   "outputs": [],
   "source": [
    "unidades_almacenamiento_df['capacidad'] = unidades_almacenamiento_df.apply(lambda x: x[x['ingrediente_actual']] ,axis=1)\n",
    "unidades_almacenamiento_df.drop(columns=productos, inplace=True)\n",
    "unidades_almacenamiento_df = unidades_almacenamiento_df.groupby(['planta', 'ingrediente_actual'])[['cantidad_actual', 'capacidad']].sum().reset_index()\n",
    "\n",
    "# Agregando la informacion de safety stock\n",
    "unidades_almacenamiento_df = pd.merge(left=unidades_almacenamiento_df,\n",
    "                                      right=safety_stock_df,\n",
    "                                      left_on=['planta', 'ingrediente_actual'],\n",
    "                                      right_on=['planta', 'ingrediente'],\n",
    "                                      how='left').drop(columns='ingrediente')"
   ]
  },
  {
   "cell_type": "code",
   "execution_count": null,
   "metadata": {},
   "outputs": [],
   "source": [
    "# Generar un diccionario para renombrar las columnas de tiempo en consumo proyectado\n",
    "consumo_proyectado_renamer = {x: datetime.strptime(x, '%d/%m/%Y').strftime(\n",
    "    '%Y%m%d') for x in consumo_proyectado_df.drop(columns=['planta', 'ingrediente']).columns}\n",
    "# Efectuar el cambio de nombre\n",
    "consumo_proyectado_df.rename(columns=consumo_proyectado_renamer, inplace=True)\n",
    "# Unir con el consumo proyectado\n",
    "unidades_almacenamiento_df = pd.merge(left=unidades_almacenamiento_df,\n",
    "                                      right=consumo_proyectado_df,\n",
    "                                      left_on=['planta', 'ingrediente_actual'],\n",
    "                                      right_on=['planta', 'ingrediente'],\n",
    "                                      how='left').drop(columns=['ingrediente']).rename(columns={'ingrediente_actual': 'ingrediente', 'cantidad_actual': 'cantidad'}).fillna(0.0)\n",
    "\n",
    "print(unidades_almacenamiento_df.shape)\n",
    "unidades_almacenamiento_df.head()\n",
    "# Llenar la informacion de los inventarios\n",
    "for i in unidades_almacenamiento_df.index:\n",
    "    planta = unidades_almacenamiento_df.loc[i]['planta']\n",
    "    ingrediente = unidades_almacenamiento_df.loc[i]['ingrediente']\n",
    "    cantidad_inicial = unidades_almacenamiento_df.loc[i]['cantidad']\n",
    "    capacidad_almacenamiento = unidades_almacenamiento_df.loc[i]['capacidad']\n",
    "    safety_stock_dias = unidades_almacenamiento_df.loc[i]['dias_ss']\n",
    "\n",
    "    if not 'inventarios' in plantas[planta].keys():\n",
    "        plantas[planta]['inventarios'] = dict()\n",
    "\n",
    "    if not ingrediente in plantas[planta]['inventarios'].keys():\n",
    "        plantas[planta]['inventarios'][ingrediente] = dict()\n",
    "\n",
    "    if not 'capacidad' in plantas[planta]['inventarios'][ingrediente].keys():\n",
    "        plantas[planta]['inventarios'][ingrediente]['capacidad'] = capacidad_almacenamiento\n",
    "\n",
    "    if not 'inventario_final' in plantas[planta]['inventarios'][ingrediente].keys():\n",
    "        plantas[planta]['inventarios'][ingrediente]['inventario_final'] = dict()\n",
    "\n",
    "    if not 'llegadas' in plantas[planta]['inventarios'][ingrediente].keys():\n",
    "        plantas[planta]['inventarios'][ingrediente]['llegadas'] = dict()\n",
    "\n",
    "    if not 'consumo' in plantas[planta]['inventarios'][ingrediente].keys():\n",
    "        plantas[planta]['inventarios'][ingrediente]['consumo'] = dict()\n",
    "\n",
    "    if not 'backorder' in plantas[planta]['inventarios'][ingrediente].keys():\n",
    "        plantas[planta]['inventarios'][ingrediente]['backorder'] = dict()\n",
    "\n",
    "    if not 'safety_stock' in plantas[planta]['inventarios'][ingrediente].keys():\n",
    "        plantas[planta]['inventarios'][ingrediente]['safety_stock'] = dict()\n",
    "\n",
    "    #if not 'exceso_capacidad' in plantas[planta]['inventarios'][ingrediente].keys():\n",
    "    #    plantas[planta]['inventarios'][ingrediente]['exceso_capacidad'] = dict()\n",
    "\n",
    "    plantas[planta]['inventarios'][ingrediente]['inventario_final'][periodo_anterior] = cantidad_inicial\n",
    "\n",
    "    consumo_total = sum([unidades_almacenamiento_df.loc[i][str(t)]\n",
    "                        for t in periodos])\n",
    "\n",
    "    if consumo_total > 0:\n",
    "\n",
    "        plantas[planta]['inventarios'][ingrediente]['safety_stock_dias'] = safety_stock_dias\n",
    "\n",
    "        safety_stock_kg = consumo_total*safety_stock_dias/len(periodos)\n",
    "\n",
    "        plantas[planta]['inventarios'][ingrediente]['safety_stock_kg'] = safety_stock_kg\n",
    "\n",
    "        for periodo in periodos:\n",
    "            # Agregar las variables de inventario\n",
    "            inventario_var_name = f'I_{planta}_{ingrediente}_{periodo}'\n",
    "            inventario_var = pu.LpVariable(\n",
    "                name=inventario_var_name, lowBound=0.0, cat=pu.LpContinuous)\n",
    "            plantas[planta]['inventarios'][ingrediente]['inventario_final'][periodo] = inventario_var\n",
    "\n",
    "            \"\"\"\n",
    "            # Agregar las variables de exceso de inventario\n",
    "            exceso_capacidad_var_name = f'M_{planta}_{ingrediente}_{periodo}'\n",
    "            exceso_capacidad_var = pu.LpVariable(\n",
    "                name=exceso_capacidad_var_name, lowBound=0.0, cat=pu.LpContinuous)\n",
    "            plantas[planta]['inventarios'][ingrediente]['exceso_capacidad'][periodo] = exceso_capacidad_var\n",
    "            \"\"\"\n",
    "            \n",
    "            # Agregar las listas a donde llegarán los transportes\n",
    "            plantas[planta]['inventarios'][ingrediente]['llegadas'][periodo] = list()\n",
    "\n",
    "            # Agregar las variables de backorder\n",
    "            bak_var_name = f'B_{planta}_{ingrediente}_{periodo}'\n",
    "            bak_var = pu.LpVariable(\n",
    "                name=bak_var_name, lowBound=0.0, cat=pu.LpContinuous)\n",
    "            plantas[planta]['inventarios'][ingrediente]['backorder'][periodo] = bak_var\n",
    "\n",
    "            # Agregar las variables de Safety Stock\n",
    "            if capacidad_almacenamiento > safety_stock_kg + 2*cap_camion:\n",
    "                ss_var_name = f'S_{planta}_{ingrediente}_{periodo}'\n",
    "                ss_var = pu.LpVariable(\n",
    "                    name=ss_var_name, lowBound=0.0, cat=pu.LpContinuous)\n",
    "                plantas[planta]['inventarios'][ingrediente]['safety_stock'][periodo] = ss_var\n",
    "\n",
    "            # Agregar el consumo proyectado\n",
    "            consumo = unidades_almacenamiento_df.loc[i][str(periodo)]\n",
    "            plantas[planta]['inventarios'][ingrediente]['consumo'][periodo] = consumo\n",
    "    else:\n",
    "        for periodo in periodos:\n",
    "            # Dejar el inventario en el estado actual\n",
    "            plantas[planta]['inventarios'][ingrediente]['inventario_final'][periodo] = cantidad_inicial\n",
    "\n",
    "            # Agregar el consumo proyectado\n",
    "            consumo = unidades_almacenamiento_df.loc[i][str(periodo)]\n",
    "            plantas[planta]['inventarios'][ingrediente]['consumo'][periodo] = consumo\n",
    "\n",
    "            \"\"\"\n",
    "            # Agregar las variables de exceso de inventario\n",
    "            exceso_capacidad_var_name = f'M_{planta}_{ingrediente}_{periodo}'\n",
    "            exceso_capacidad_var = pu.LpVariable(\n",
    "                name=exceso_capacidad_var_name, lowBound=0.0, cat=pu.LpContinuous)\n",
    "            plantas[planta]['inventarios'][ingrediente]['exceso_capacidad'][periodo] = exceso_capacidad_var\n",
    "            \"\"\""
   ]
  },
  {
   "cell_type": "markdown",
   "metadata": {},
   "source": [
    "#### Llegadas programadas anteriormente a Planta"
   ]
  },
  {
   "cell_type": "code",
   "execution_count": null,
   "metadata": {},
   "outputs": [],
   "source": [
    "\"\"\"\n",
    "for i in transitos_planta_df.index:\n",
    "    planta = transitos_planta_df.loc[i]['planta']\n",
    "    ingrediente = transitos_planta_df.loc[i]['ingrediente']\n",
    "    cantidad = transitos_planta_df.loc[i]['cantidad']\n",
    "    fecha = transitos_planta_df.loc[i]['fecha_llegada']\n",
    "    periodo = int(fecha.strftime('%Y%m%d'))\n",
    "    plantas[planta]['inventarios'][ingrediente]['llegadas'][periodo].append(0.0)\n",
    "\"\"\""
   ]
  },
  {
   "cell_type": "markdown",
   "metadata": {},
   "source": [
    "### Cargas en Puerto"
   ]
  },
  {
   "cell_type": "markdown",
   "metadata": {
    "jp-MarkdownHeadingCollapsed": true
   },
   "source": [
    "#### Crear cargas a partir de información de los transitos"
   ]
  },
  {
   "cell_type": "code",
   "execution_count": null,
   "metadata": {},
   "outputs": [],
   "source": [
    "# Generar Cargas\n",
    "cargas = dict()\n",
    "\n",
    "# A partir de los transitos\n",
    "for i in transitos_puerto_df.index:\n",
    "    importacion = str(transitos_puerto_df.loc[i]['importacion']).replace(' ','')\n",
    "    empresa = transitos_puerto_df.loc[i]['empresa']\n",
    "    operador = transitos_puerto_df.loc[i]['operador']\n",
    "    puerto = transitos_puerto_df.loc[i]['puerto']\n",
    "    ingrediente = transitos_puerto_df.loc[i]['ingrediente']\n",
    "    cantidad_kg = transitos_puerto_df.loc[i]['cantidad_kg']\n",
    "    valor_cif = transitos_puerto_df.loc[i]['valor_kg']\n",
    "    fecha = transitos_puerto_df.loc[i]['fecha_llegada']\n",
    "    if not importacion in cargas.keys():\n",
    "        cargas[importacion] = dict()\n",
    "    \n",
    "    cargas[importacion]['empresa'] = empresa\n",
    "    cargas[importacion]['operador'] = operador\n",
    "    cargas[importacion]['puerto'] = puerto\n",
    "    cargas[importacion]['ingrediente'] = ingrediente\n",
    "    cargas[importacion]['valor_cif'] = valor_cif\n",
    "    cargas[importacion]['inventario_inicial'] = 0\n",
    "    cargas[importacion]['costo_almacenamiento'] = {int(t.strftime('%Y%m%d')):0 for t in fechas}\n",
    "    cargas[importacion]['llegadas'] = dict()\n",
    "    cargas[importacion]['fecha_inicial'] = int(fecha.strftime('%Y%m%d'))\n",
    "    \n",
    "    # Poner llegadas de materia\n",
    "    while cantidad_kg > cap_descarge:\n",
    "        cargas[importacion]['llegadas'][int(fecha.strftime('%Y%m%d'))] = cap_descarge\n",
    "        cantidad_kg -= cap_descarge\n",
    "        fecha = fecha + timedelta(days=1)\n",
    "    \n",
    "    if cantidad_kg > 0:\n",
    "        cargas[importacion]['llegadas'][int(fecha.strftime('%Y%m%d'))] = cantidad_kg\n",
    "    cargas[importacion]['fecha_final'] = int(fecha.strftime('%Y%m%d'))\n",
    "\n",
    "    # Agregar las variables de inventario\n",
    "    cargas[importacion]['inventario_al_final'] = dict()\n",
    "    for t in periodos:\n",
    "        var_name = f\"O_{importacion}_{t}\"\n",
    "        lp_var = pu.LpVariable(name=var_name,\n",
    "                               lowBound=0.0,\n",
    "                               upBound=transitos_puerto_df.loc[i]['cantidad_kg'],\n",
    "                               cat=pu.LpContinuous)\n",
    "        cargas[importacion]['inventario_al_final'][t]=lp_var\n"
   ]
  },
  {
   "cell_type": "markdown",
   "metadata": {},
   "source": [
    "#### Crear cargas a partir de invenatrios en puerto"
   ]
  },
  {
   "cell_type": "code",
   "execution_count": null,
   "metadata": {},
   "outputs": [],
   "source": [
    "    \n",
    "# A Partir de los inventarios en puerto    \n",
    "for i in inventario_puerto_df.index:\n",
    "    empresa = inventario_puerto_df.loc[i]['empresa']\n",
    "    operador = inventario_puerto_df.loc[i]['operador']\n",
    "    puerto = inventario_puerto_df.loc[i]['puerto']\n",
    "    ingrediente = inventario_puerto_df.loc[i]['ingrediente']\n",
    "    importacion = str(inventario_puerto_df.loc[i]['importacion']).replace(' ','')\n",
    "    inventario_inicial = inventario_puerto_df.loc[i]['cantidad_kg']\n",
    "    valor_cif = inventario_puerto_df.loc[i]['valor_cif_kg']\n",
    "    fecha = inventario_puerto_df.loc[i]['fecha_llegada']\n",
    "\n",
    "    if not importacion in cargas.keys():\n",
    "        cargas[importacion] = dict()\n",
    "    \n",
    "    cargas[importacion]['empresa'] = empresa\n",
    "    cargas[importacion]['operador'] = operador\n",
    "    cargas[importacion]['puerto'] = puerto\n",
    "    cargas[importacion]['ingrediente'] = ingrediente\n",
    "    cargas[importacion]['valor_cif'] = valor_cif\n",
    "    cargas[importacion]['inventario_inicial'] = inventario_inicial\n",
    "    cargas[importacion]['costo_almacenamiento'] = {int(t.strftime('%Y%m%d')):0 for t in fechas}\n",
    "\n",
    "    # Poner llegadas de materia\n",
    "    cargas[importacion]['llegadas'] = {t.strftime('%Y%m%d'):0 for t in fechas}\n",
    "    \n",
    "    cargas[importacion]['fecha_inicial'] = int(fecha.strftime('%Y%m%d'))\n",
    "    cargas[importacion]['fecha_final'] = int(fecha.strftime('%Y%m%d'))\n",
    "    # Agregar las variables de inventario\n",
    "    cargas[importacion]['inventario_al_final'] = dict()\n",
    "\n",
    "    for t in periodos:\n",
    "\n",
    "        var_name = f\"O_{importacion}_{t}\"\n",
    "        lp_var = pu.LpVariable(name=var_name,\n",
    "                               lowBound=0.0,\n",
    "                               upBound=inventario_puerto_df.loc[i]['cantidad_kg'],\n",
    "                               cat=pu.LpContinuous)\n",
    "        cargas[importacion]['inventario_al_final'][t]=lp_var"
   ]
  },
  {
   "cell_type": "markdown",
   "metadata": {},
   "source": [
    "#### Costos de almacenamiento"
   ]
  },
  {
   "cell_type": "code",
   "execution_count": null,
   "metadata": {},
   "outputs": [],
   "source": [
    "# Agregar costos de almacenamiento a cada carga\n",
    "for i in costos_almacenamiento_df.index:\n",
    "    importacion = str(costos_almacenamiento_df.loc[i]['importacion']).replace(' ','')\n",
    "    fecha = int(costos_almacenamiento_df.loc[i]['fecha_corte'].strftime('%Y%m%d'))\n",
    "    valor_kg = costos_almacenamiento_df.loc[i]['valor_kg']\n",
    "\n",
    "    if importacion in cargas.keys():\n",
    "        if fecha in cargas[importacion]['costo_almacenamiento']:\n",
    "            cargas[importacion]['costo_almacenamiento'][fecha] += valor_kg"
   ]
  },
  {
   "cell_type": "markdown",
   "metadata": {},
   "source": [
    "#### Costos de Bodegaje"
   ]
  },
  {
   "cell_type": "code",
   "execution_count": null,
   "metadata": {},
   "outputs": [],
   "source": [
    "# Agregar costos de bodegaje cuando es un producto en tránsito a puerto a cada carga\n",
    "for importacion, carga in cargas.items():\n",
    "    index = ('bodega', carga['operador'], carga['puerto'], carga['ingrediente'])\n",
    "    valor_kg = operaciones_portuarias_df.loc[index]['valor_kg']\n",
    "    if carga['fecha_inicial'] >= int(fechas[0].strftime('%Y%m%d')) and carga['fecha_final'] <= int(fechas[-1].strftime('%Y%m%d')):\n",
    "        carga['costo_almacenamiento'][carga['fecha_final']] += valor_kg"
   ]
  },
  {
   "cell_type": "markdown",
   "metadata": {},
   "source": [
    "#### Costos intercompany"
   ]
  },
  {
   "cell_type": "code",
   "execution_count": null,
   "metadata": {},
   "outputs": [],
   "source": [
    "intercompany_df = intercompany_df.melt(id_vars='origen',\n",
    "                                       value_vars=['contegral', 'finca'],\n",
    "                                       var_name='destino',\n",
    "                                       value_name='intercompany')\n",
    "\n",
    "intercompany_df.set_index(['origen', 'destino'], inplace=True)"
   ]
  },
  {
   "cell_type": "markdown",
   "metadata": {},
   "source": [
    "#### Costos de transporte (fletes)"
   ]
  },
  {
   "cell_type": "code",
   "execution_count": null,
   "metadata": {},
   "outputs": [],
   "source": [
    "# Encontrar el costo total de transporte por kilogramo\n",
    "fletes_df = fletes_df.melt(id_vars=['puerto', 'operador', 'ingrediente'],\n",
    "                           value_vars=list(plantas.keys()),\n",
    "                           value_name='costo_per_kg',\n",
    "                           var_name='planta')\n",
    "\n",
    "# Calcular valor del flete\n",
    "fletes_df['flete'] = cap_camion*fletes_df['costo_per_kg']\n",
    "\n",
    "fletes_df = pd.merge(left=fletes_df,\n",
    "                     right=plantas_df[['planta', 'empresa']],\n",
    "                     left_on='planta',\n",
    "                     right_on='planta')\n",
    "\n",
    "fletes_df.set_index(['puerto', 'operador', 'ingrediente', 'planta'], inplace=True)"
   ]
  },
  {
   "cell_type": "markdown",
   "metadata": {},
   "source": [
    "*Nota:* evitar crear variables de transporte si la capacidad de almacenamiento de la planta es 0 o e consumo es 0 "
   ]
  },
  {
   "cell_type": "code",
   "execution_count": null,
   "metadata": {},
   "outputs": [],
   "source": [
    "# Informacion de transporte\n",
    "for importacion, carga in cargas.items():\n",
    "    puerto = carga['puerto']\n",
    "    operador = carga['operador']\n",
    "    ingrediente = carga['ingrediente']\n",
    "    costo_envio = dict() \n",
    "\n",
    "    for nombre_planta, planta in plantas.items():\n",
    "        empresa_destino = planta['empresa']\n",
    "        costo_intercompany = intercompany_df.loc[(carga['empresa'], empresa_destino)]['intercompany']\n",
    "        valor_intercompany = cap_camion*carga['valor_cif']*(costo_intercompany)\n",
    "        flete = fletes_df.loc[(puerto,operador,ingrediente,nombre_planta)]['flete']\n",
    "        valor_despacho_directo_kg = cap_camion*operaciones_portuarias_df.loc[('directo', operador, puerto, ingrediente)]['valor_kg']\n",
    "\n",
    "        # Costo de flete\n",
    "        costo_envio[nombre_planta] = dict()\n",
    "        costo_envio[nombre_planta]['intercompany'] = costo_intercompany\n",
    "        costo_envio[nombre_planta]['flete'] = flete\n",
    "        costo_envio[nombre_planta]['cantidad_despacho'] = cap_camion\n",
    "        costo_envio[nombre_planta]['valor_intercompany'] = valor_intercompany\n",
    "        costo_envio[nombre_planta]['costo_despacho_directo'] = valor_despacho_directo_kg\n",
    "\n",
    "        costo_envio[nombre_planta]['costo_envio'] = dict()\n",
    "        costo_envio[nombre_planta]['tipo_envio'] = dict()\n",
    "        costo_envio[nombre_planta]['variable_despacho'] = dict()\n",
    "\n",
    "        # Tomar en cuenta solo los periodos relevantes\n",
    "        periodo_final = periodos.index(periodos[-1])-lead_time+1\n",
    "\n",
    "        for periodo in periodos[periodo_administrativo:periodo_final]:\n",
    "            # Si el periodo esta entre la fecha de llegada, colocar operacion portuaria por despacho directo.\n",
    "            if periodo >= carga['fecha_inicial'] and periodo <= carga['fecha_final']:\n",
    "                costo_envio[nombre_planta]['costo_envio'][periodo] = valor_intercompany + flete + valor_despacho_directo_kg\n",
    "                costo_envio[nombre_planta]['tipo_envio'][periodo] = 'directo'\n",
    "                \n",
    "            else:\n",
    "                costo_envio[nombre_planta]['costo_envio'][periodo] = valor_intercompany + flete\n",
    "                costo_envio[nombre_planta]['tipo_envio'][periodo] = 'indirecto'\n",
    "\n",
    "            # Variable de transporte\n",
    "                \n",
    "            # Antes de crear las variables de transporte, es importante saber si la planta tiene consumo del ingrediente\n",
    "            if ingrediente in planta['inventarios'].keys():            \n",
    "\n",
    "                consumo_total = sum([c for p,c in planta['inventarios'][ingrediente]['consumo'].items()])\n",
    "\n",
    "                if consumo_total > 0:\n",
    "\n",
    "                    transporte_var_name = f'T_{importacion}_{nombre_planta}_{periodo}'\n",
    "                    transporte_var = pu.LpVariable(name=transporte_var_name,\n",
    "                                        lowBound=0,\n",
    "                                        cat=pu.LpInteger)\n",
    "                    \n",
    "                    costo_envio[nombre_planta]['variable_despacho'][periodo] = transporte_var\n",
    "\n",
    "                    # Colocar la variable en la planta dos periodos despues\n",
    "                    periodo_llegada = periodos[periodos.index(periodo)+lead_time]\n",
    "                    plantas[nombre_planta]['inventarios'][ingrediente]['llegadas'][periodo_llegada].append(transporte_var)           \n",
    "\n",
    "\n",
    "        carga['costo_despacho'] = costo_envio\n",
    "        "
   ]
  },
  {
   "cell_type": "markdown",
   "metadata": {},
   "source": [
    "# Modelo matemático"
   ]
  },
  {
   "cell_type": "markdown",
   "metadata": {},
   "source": [
    "## Sets:\n",
    "\n",
    "$t$: periodos con $t \\in T$\n",
    "\n",
    "$p$: productos con $p \\in P$\n",
    "\n",
    "$i$: cargas con $i \\in T$\n",
    "\n",
    "$j$: plantas con $j \\in J$"
   ]
  },
  {
   "cell_type": "markdown",
   "metadata": {},
   "source": [
    "\n",
    "## Parametros:\n",
    "\n",
    "$CB:$ Costo de backorder por día\n",
    "\n",
    "$CT_{ij}$: Costo de transportar la carga $i$ hacia la planta $j$\n",
    "\n",
    "$CA_{it}$: Costo de mantener la carga $i$ almacenada al final del periodo $p$\n",
    "\n",
    "$AR_{it}$: Cantidad de producto llegando a la carga $i$ durante el periodo $p$\n",
    "\n",
    "$DM_{pjt}$: Demanda del producto $p$ en la planta $j$ durante el periodo $t$\n",
    "\n",
    "$CP_{pjt}$: Capacidad de almacenar el producto $p$ en la planta $j$\n",
    "\n",
    "$IP_{i}$: Inventario inicial de la carga $i$\n",
    "\n",
    "$TJ_{pjt}$: Cantidad programada del producto $p$ llegando a la planta $j$ durante el periodo $t$ \n",
    "\n",
    "$IJ_{pj}$: Inventario inicial de producto $p$ en la planta $j$ \n",
    "\n",
    "$MI_{pjt}$: Inventario mínimo a mantener del producto $p$ en la planta $j$ al final del periodo $t$\n",
    "\n",
    "$MX_{pjt}$: Inventario máximo a mantener del producto $p$ en la planta $j$ al final del periodo $t$\n"
   ]
  },
  {
   "cell_type": "markdown",
   "metadata": {},
   "source": [
    "## Diccionarios\n",
    "\n",
    "Carga[i][Producto]: Producto que contiene la carga i\n",
    "\n",
    "Carga[i][Inventario_Inicial]: Inventario Inicial de la carga i\n",
    " "
   ]
  },
  {
   "cell_type": "markdown",
   "metadata": {},
   "source": [
    "\n",
    "## Variables:\n",
    "\n",
    "$T_{ijt}$: Variable entera, Cantidad de camiones de 34 Toneladas a despachar de la carga $i$ hasta la planta $j$ durante el periodo $t$\n",
    "\n",
    "$O_{it}$: Continua, Cantidad de toneladas de la carga $i$ almacenadas al final del periodo $t$\n",
    "\n",
    "$I_{pjt}$: Cantidad del producto $p$ almacenado en la planta $j$ al final del periodo $t$\n",
    "\n",
    "$B_{pjt}$: Cantidad del producto $p$ de backorder en la planta $j$ al final del periodo $t$\n",
    "\n",
    "$S_{pjt}$: Cantidad del producto $p$ por debajo del SS en la planta $j$ al final del periodo $t$\n",
    "\n",
    "$M_{pjt}$: Unidades de exceso del producto $p$ en la planta $j$ al final del periodo $t$ sobre el inventario objetivo\n",
    "\n",
    "$X_{pjt}$: Unidades por debajo del producto $p$ en la planta $j$ al final del periodo $t$ bajo el inventario objetivo\n"
   ]
  },
  {
   "cell_type": "markdown",
   "metadata": {},
   "source": [
    "\n",
    "## Funcion Objetivo:\n",
    "\n",
    "$$min \\sum_{i}\\sum_{j}\\sum_{t}{CT_{ijt}*T_{ijt}} + \\sum_{i}\\sum_{t}CA_{it}O_{it} + \\sum_{pjt}{CB*B}  + PP \\sum_{M}\\sum_{P}\\sum_{J}{M_{mpj}} + PP \\sum_{M}\\sum_{P}\\sum_{J}{X_{mpj}}$$"
   ]
  },
  {
   "cell_type": "code",
   "execution_count": null,
   "metadata": {},
   "outputs": [],
   "source": [
    "funcion_objetivo = list()"
   ]
  },
  {
   "cell_type": "markdown",
   "metadata": {},
   "source": [
    "### Costo por transporte\n",
    "\n",
    "El costo del transporte esta dado por el producto escalar entre los costos de envio, que ya incluyen fletes, costos porturarios y costos intercompany\n",
    "\n",
    "$$\\sum_{i}\\sum_{j}\\sum_{t}{CT_{ijt}*T_{ijt}}$$"
   ]
  },
  {
   "cell_type": "code",
   "execution_count": null,
   "metadata": {},
   "outputs": [],
   "source": [
    "for periodo in periodos:\n",
    "    for impo, carga in cargas.items():\n",
    "        for nombre_planta, planta in plantas.items():\n",
    "            if periodo in carga['costo_despacho'][nombre_planta]['variable_despacho'].keys():\n",
    "                # CT_ijt*T_ijt\n",
    "                costo_envio = carga['costo_despacho'][nombre_planta]['costo_envio'][periodo]# + periodos.index(periodo)\n",
    "                var_envio = carga['costo_despacho'][nombre_planta]['variable_despacho'][periodo]\n",
    "                funcion_objetivo.append(costo_envio*var_envio)\n"
   ]
  },
  {
   "cell_type": "markdown",
   "metadata": {},
   "source": [
    "### Costo por almacenamiento en puerto\n",
    "\n",
    "El costo por almacenamiento esta dado por el producto escalar entre los costos de almacenamiento que incluyen el costo el costo de operacion portuaria de llevar el material desde el barco hasta la bodega y, la tarifa por almacenamiento que se paga periódicamente luego de los días libres. \n",
    "\n",
    "$$\\sum_{i}\\sum_{t}CA_{it}O_{it}$$"
   ]
  },
  {
   "cell_type": "code",
   "execution_count": null,
   "metadata": {},
   "outputs": [],
   "source": [
    "for periodo in periodos:\n",
    "    for impo, carga in cargas.items():\n",
    "        costo_almaenamiento = carga['costo_almacenamiento'][periodo]\n",
    "        inventario_al_final = carga['inventario_al_final'][periodo]\n",
    "        if costo_almaenamiento > 0:\n",
    "            funcion_objetivo.append(costo_almaenamiento*inventario_al_final)\n"
   ]
  },
  {
   "cell_type": "markdown",
   "metadata": {},
   "source": [
    "### Costo de Backorder\n",
    "\n",
    "El costo por backorder es una penalización a la función objetivo, donde se carga un valor determinado por cada kilogramo de material que no esté disponible para el consumo\n",
    "\n",
    "$\\sum_{pjt}{CB*B}$"
   ]
  },
  {
   "cell_type": "code",
   "execution_count": null,
   "metadata": {},
   "outputs": [],
   "source": [
    "for nombre_planta, planta in plantas.items():\n",
    "    for nombre_ingrediente, ingrediente in planta['inventarios'].items():\n",
    "        for periodo, var in ingrediente['backorder'].items():\n",
    "            funcion_objetivo.append(costo_backorder_dia*var)\n",
    "        "
   ]
  },
  {
   "cell_type": "markdown",
   "metadata": {
    "jp-MarkdownHeadingCollapsed": true
   },
   "source": [
    "### Costo por no alcanzar el inventario de seguridad (pendiente)"
   ]
  },
  {
   "cell_type": "code",
   "execution_count": null,
   "metadata": {},
   "outputs": [],
   "source": [
    "for nombre_planta, planta in plantas.items():\n",
    "    for nombre_ingrediente, ingrediente in planta['inventarios'].items():\n",
    "        if 'safety_stock' in planta['inventarios'][nombre_ingrediente].keys():\n",
    "            for periodo, var in ingrediente['safety_stock'].items():\n",
    "                funcion_objetivo.append(costo_safety_stock*var)"
   ]
  },
  {
   "cell_type": "markdown",
   "metadata": {},
   "source": [
    "### Costo por exceder capacidad de almacenamiento"
   ]
  },
  {
   "cell_type": "code",
   "execution_count": null,
   "metadata": {},
   "outputs": [],
   "source": [
    "\"\"\"\n",
    "for nombre_planta, planta in plantas.items():\n",
    "    for nombre_ingrediente, ingrediente in planta['inventarios'].items():\n",
    "        for periodo, var in ingrediente['exceso_capacidad'].items():\n",
    "            funcion_objetivo.append(costo_exceso_capacidad*var)\n",
    "\"\"\""
   ]
  },
  {
   "cell_type": "markdown",
   "metadata": {},
   "source": [
    "## Restricciones:"
   ]
  },
  {
   "cell_type": "markdown",
   "metadata": {},
   "source": [
    "\n",
    "### Balance de masa en cargas\n",
    "\n",
    "El inventario al final del periodo es igual a:\n",
    "\n",
    "- el inventario al final del periodo anterior;\n",
    "- más las llegadas planeadas;\n",
    "- menos los despachos hacia plantas\n",
    "\n",
    "$$ O_{it} =  O_{i(t-1)} + AR_{it} - 34000\\sum_{J}{T_{ijt}} \\hspace{1cm} \\forall i \\in I, t \\in T$$"
   ]
  },
  {
   "cell_type": "code",
   "execution_count": null,
   "metadata": {},
   "outputs": [],
   "source": [
    "rest_balance_masa_puerto = list()\n",
    "\n",
    "for importacion, carga in cargas.items():\n",
    "    for periodo in periodos:\n",
    "\n",
    "        left = list()\n",
    "        right = list()\n",
    "        \n",
    "        # Oit\n",
    "        Oit = carga['inventario_al_final'][periodo]\n",
    "        left.append(Oit)\n",
    "\n",
    "        # Oi(t-1)\n",
    "        if periodo == periodos[0]:\n",
    "            Oitant = carga['inventario_inicial']\n",
    "        else:\n",
    "            t_anterior = periodos[periodos.index(periodo)-1]\n",
    "            Oitant = carga['inventario_al_final'][t_anterior]\n",
    "        right.append(Oitant)\n",
    "\n",
    "        # ARit\n",
    "        if periodo in carga['llegadas'].keys():\n",
    "            ar = carga['llegadas'][periodo]\n",
    "            right.append(ar)\n",
    "\n",
    "        # - 34000*Sum(Tijt)\n",
    "        for planta, despacho in carga['costo_despacho'].items():            \n",
    "            if periodo in despacho['variable_despacho'].keys():\n",
    "                var_despacho = despacho['variable_despacho'][periodo]\n",
    "                left.append(cap_camion*var_despacho)\n",
    "        \n",
    "        \n",
    "        name = f'balance_masa_{importacion}_al_final_de_{periodo}'\n",
    "        rest = (pu.lpSum(left) == pu.lpSum(right), name)\n",
    "        \n",
    "        rest_balance_masa_puerto.append(rest)\n"
   ]
  },
  {
   "cell_type": "markdown",
   "metadata": {},
   "source": [
    "### Balance de masa en plantas\n",
    "\n",
    "El inventario en planta al final del periodo es igual a:\n",
    "\n",
    "- el inventario al final del periodo anterior;\n",
    "- más las llegadas ya programadas;\n",
    "- más las llegadas planeadas;\n",
    "- menos la demanda\n",
    "- más el backorder, que compensa cuando el inventario más las llegadas no son suficientes\n",
    "\n",
    "$$ I_{pjt} = I_{pj(t-1)} + TJ_{pjt} + \\sum_{i}{T_{ij(t-2)}} -  DM_{pjt} + B_{pjt} \\hspace{1cm} \\forall p \\in P, j \\in J, t \\in T$$\n"
   ]
  },
  {
   "cell_type": "code",
   "execution_count": null,
   "metadata": {},
   "outputs": [],
   "source": [
    "rest_balance_masa_planta =  list()\n",
    "for nombre_planta, planta in plantas.items():\n",
    "    for nombre_ingrediente, ingrediente in planta['inventarios'].items():\n",
    "        for periodo in periodos:\n",
    "\n",
    "            left = list()\n",
    "            right = list()\n",
    "\n",
    "            # Ipjt\n",
    "            Spjt = ingrediente['inventario_final'][periodo]\n",
    "            left.append(Spjt)\n",
    "\n",
    "            # Ipj(t-1)\n",
    "            if periodo == periodos[0]:\n",
    "                Ipj_tanterior = ingrediente['inventario_final'][periodo_anterior]\n",
    "            else:\n",
    "                p_anterior = periodos[periodos.index(periodo)-1]\n",
    "                Ipj_tanterior = ingrediente['inventario_final'][p_anterior]\n",
    "                \n",
    "            right.append(Ipj_tanterior)\n",
    "                \n",
    "            # + TJ\n",
    "\n",
    "\n",
    "            # + Tijt\n",
    "            if periodo in ingrediente['llegadas'].keys():\n",
    "                for llegada_planeada_var in ingrediente['llegadas'][periodo]:\n",
    "                    if type(llegada_planeada_var) == pu.LpVariable:\n",
    "                        right.append(cap_camion*llegada_planeada_var)\n",
    "                    else:\n",
    "                        right.append(llegada_planeada_var)\n",
    "\n",
    "            # - DMpjt\n",
    "           \n",
    "            if periodo in ingrediente['consumo'].keys():\n",
    "                DMpjt = ingrediente['consumo'][periodo]\n",
    "                left.append(DMpjt)\n",
    "            \n",
    "            # + Baclorder\n",
    "            if periodo in ingrediente['backorder'].keys():\n",
    "                bak_var = ingrediente['backorder'][periodo]\n",
    "                right.append(bak_var)\n",
    "\n",
    "            name = f'balance_planta_{nombre_planta}_de_{nombre_ingrediente}_al_final_de_{periodo}'\n",
    "            rest = (pu.lpSum(left) == pu.lpSum(right), name)\n",
    "\n",
    "            rest_balance_masa_planta.append(rest)"
   ]
  },
  {
   "cell_type": "markdown",
   "metadata": {},
   "source": [
    "### Capacidad de recepción por planta\n",
    "\n",
    "En una planta y un periodo en particular, la suma del producto entre el tiempo del ingrediente y la cantidad de camiones llegando no debe superar el tiempo total disponible en la planta\n",
    "\n",
    "$$ \\sum_{I}{TiempoIngrediente_{pj}*T_{ijt}} \\leq TiempoTotal_{t} \\hspace{1cm} \\forall p \\in P, t \\in T$$"
   ]
  },
  {
   "cell_type": "code",
   "execution_count": null,
   "metadata": {},
   "outputs": [],
   "source": [
    "rest_llegada_material=list()\n",
    "for nombre_planta, planta in plantas.items():\n",
    "    tiempo_total = planta['tiempo_total']\n",
    "    for periodo in periodos:\n",
    "        left_expresion = list()\n",
    "        for ingrediente, parametros in planta['inventarios'].items():\n",
    "            tiempo_ingrediente = planta['tiempo_ingrediente'][ingrediente]\n",
    "            if periodo in parametros['llegadas'].keys():\n",
    "                for var_llegada in parametros['llegadas'][periodo]:\n",
    "                    left_expresion.append(tiempo_ingrediente*var_llegada)\n",
    "        \n",
    "        # omitir restricciones sin expresiones al lado izquiero\n",
    "        if len(left_expresion)>0:\n",
    "            rest_name = f'Llegada_material_{nombre_planta}_durante_{periodo}'\n",
    "            rest = (pu.lpSum(left_expresion)<=tiempo_total, rest_name)\n",
    "            rest_llegada_material.append(rest)\n",
    "        "
   ]
  },
  {
   "cell_type": "markdown",
   "metadata": {},
   "source": [
    "### Capacidad de almacenamiento\n",
    "\n",
    "$$ I_{pjt} \\leq CP_{pj} + M_{pjt} \\hspace{1cm} \\forall p \\in P, t \\in T$$"
   ]
  },
  {
   "cell_type": "code",
   "execution_count": null,
   "metadata": {},
   "outputs": [],
   "source": [
    "\"\"\"\n",
    "rest_capacidad_almacenamiento = list()\n",
    "for nombre_planta, planta in plantas.items():\n",
    "    for ingrediente, inventarios in planta['inventarios'].items(): \n",
    "        CPpj = inventarios['capacidad']\n",
    "        for periodo, inventario_final_var in inventarios['inventario_final'].items():\n",
    "            if type(inventario_final_var) == pu.LpVariable:\n",
    "                rest_name = f'capacidad_almacenamiento_{nombre_planta}_de_{ingrediente}_en_{periodo}'\n",
    "                #if periodo in inventarios['exceso_capacidad'].keys():\n",
    "                Mpjt = inventarios['exceso_capacidad'][periodo]\n",
    "                rest = (inventario_final_var <= CPpj + Mpjt, rest_name)\n",
    "                #else: \n",
    "               #     rest = (inventario_final_var <= CPpj, rest_name)\n",
    "                rest_capacidad_almacenamiento.append(rest)\n",
    "\"\"\""
   ]
  },
  {
   "cell_type": "markdown",
   "metadata": {},
   "source": [
    "### No superar el inventario máximo\n",
    "\n",
    "El inventario al final de un día cualquiera debe estar bajo el nivel máximo, por lo que penalizaremos en la función objetivo una variable de holgura para tal efecto\n",
    "$$ I_{pjt} \\leq MX_{pjt} + M_{pjt} \\hspace{1cm} \\forall p \\in P, j \\in J, t \\in T$$"
   ]
  },
  {
   "cell_type": "markdown",
   "metadata": {},
   "source": [
    "### Superar el inventario de seguridad\n",
    "\n",
    "El inventario al final de un día cualquiera debe estar bajo el nivel máximo, por lo que penalizaremos en la función objetivo una variable de holgura para tal efecto\n",
    "$$ I_{pjt} \\geq MX_{pjt} + M_{pjt} \\hspace{1cm} \\forall p \\in P, j \\in J, t \\in T$$"
   ]
  },
  {
   "cell_type": "code",
   "execution_count": null,
   "metadata": {},
   "outputs": [],
   "source": [
    "rest_safety_stock = list()\n",
    "for nombre_planta, planta in plantas.items():\n",
    "    for ingrediente, inventarios in planta['inventarios'].items(): \n",
    "        if 'safety_stock_kg' in inventarios.keys():\n",
    "            SS = inventarios['safety_stock_kg']\n",
    "            #for periodo, variable in inventarios['inventario_final'].items():\n",
    "            if len(inventarios['safety_stock'].keys())>0:\n",
    "                for periodo in periodos:                  \n",
    "                    rest_name = f'safety_stock_en_{nombre_planta}_de_{ingrediente}_durante_{periodo}'      \n",
    "                    Ipjt = inventarios['inventario_final'][periodo]\n",
    "                    Spij = inventarios['safety_stock'][periodo]\n",
    "                    \n",
    "                    rest = (Ipjt +  Spij >= SS, rest_name)\n",
    "                    rest_safety_stock.append(rest)"
   ]
  },
  {
   "cell_type": "markdown",
   "metadata": {},
   "source": [
    "# Resolviendo el modelo\n",
    "## Generando modelo"
   ]
  },
  {
   "cell_type": "code",
   "execution_count": null,
   "metadata": {},
   "outputs": [],
   "source": [
    "problema = pu.LpProblem(name='Bios_Solver', sense=pu.LpMinimize)\n",
    "\n",
    "# Agregando funcion objetivo\n",
    "problema+= pu.lpSum(funcion_objetivo)\n",
    "\n",
    "# Agregando balance de masa puerto\n",
    "for rest in rest_balance_masa_puerto:\n",
    "    problema+=rest\n",
    "\n",
    "# Agregando balande ce masa en planta\n",
    "for rest in rest_balance_masa_planta:\n",
    "    problema+=rest\n",
    "    \n",
    "# Agregando capacidad de recepcion\n",
    "for rest in rest_llegada_material:\n",
    "    problema+=rest\n",
    "\n",
    "# Agregando capacidad de almacenamiento\n",
    "#for rest in rest_capacidad_almacenamiento:\n",
    "#    problema+=rest\n",
    "\n",
    "# Agregando inventario de seguridad\n",
    "for rest in rest_safety_stock:\n",
    "    problema+=rest\n",
    "\n",
    "    "
   ]
  },
  {
   "cell_type": "markdown",
   "metadata": {},
   "source": [
    "## Ejecutando modelo"
   ]
  },
  {
   "cell_type": "code",
   "execution_count": null,
   "metadata": {},
   "outputs": [],
   "source": [
    "t_limit_minutes = 60*12\n",
    "cpu_count = max(1, os.cpu_count()-1)\n",
    "gap = 5000000\n",
    "print('cpu count', cpu_count)\n",
    "engine = pu.PULP_CBC_CMD(\n",
    "            timeLimit=60*t_limit_minutes,\n",
    "            gapAbs=gap,\n",
    "            warmStart=False,\n",
    "            threads=cpu_count)\n",
    "problema.solve(solver=engine)"
   ]
  },
  {
   "cell_type": "markdown",
   "metadata": {},
   "source": [
    "# Construccion de reporte"
   ]
  },
  {
   "cell_type": "code",
   "execution_count": null,
   "metadata": {},
   "outputs": [],
   "source": [
    "reporte_puerto_dict=dict()\n",
    "reporte_transporte_dict=dict()\n",
    "reporte_plantas_dict=dict()"
   ]
  },
  {
   "cell_type": "markdown",
   "metadata": {},
   "source": [
    "## Reporte de puerto"
   ]
  },
  {
   "cell_type": "code",
   "execution_count": null,
   "metadata": {},
   "outputs": [],
   "source": [
    "reporte_puerto_dict['importacion'] = list()\n",
    "reporte_puerto_dict['empresa'] = list()\n",
    "reporte_puerto_dict['operador'] = list()\n",
    "reporte_puerto_dict['puerto'] = list()\n",
    "reporte_puerto_dict['ingrediente'] = list()\n",
    "reporte_puerto_dict['valor_cif'] = list()\n",
    "reporte_puerto_dict['periodo'] = list()\n",
    "reporte_puerto_dict['costo_almacenamiento'] = list()\n",
    "reporte_puerto_dict['llegadas'] = list()\n",
    "reporte_puerto_dict['inventario'] = list()\n",
    "\n",
    "for importacion, carga in cargas.items():\n",
    "\n",
    "    reporte_puerto_dict['importacion'].append(importacion)\n",
    "    reporte_puerto_dict['empresa'].append(carga['empresa'])\n",
    "    reporte_puerto_dict['operador'].append(carga['operador'])\n",
    "    reporte_puerto_dict['puerto'].append(carga['puerto'])\n",
    "    reporte_puerto_dict['ingrediente'].append(carga['ingrediente'])\n",
    "    reporte_puerto_dict['valor_cif'].append(carga['valor_cif'])\n",
    "    reporte_puerto_dict['periodo'].append(periodo_anterior)\n",
    "    reporte_puerto_dict['costo_almacenamiento'].append(0.0)\n",
    "    reporte_puerto_dict['llegadas'].append(0)\n",
    "    reporte_puerto_dict['inventario'].append(carga['inventario_inicial'])\n",
    "    \n",
    "\n",
    "    for periodo in periodos:\n",
    "        reporte_puerto_dict['importacion'].append(importacion)\n",
    "        reporte_puerto_dict['empresa'].append(carga['empresa'])\n",
    "        reporte_puerto_dict['operador'].append(carga['operador'])\n",
    "        reporte_puerto_dict['puerto'].append(carga['puerto'])\n",
    "        reporte_puerto_dict['ingrediente'].append(carga['ingrediente'])\n",
    "        reporte_puerto_dict['valor_cif'].append(carga['valor_cif'])\n",
    "        reporte_puerto_dict['periodo'].append(periodo)\n",
    "        reporte_puerto_dict['costo_almacenamiento'].append(carga['costo_almacenamiento'][periodo])\n",
    "        if periodo in carga['llegadas'].keys():\n",
    "            reporte_puerto_dict['llegadas'].append(carga['llegadas'][periodo])\n",
    "        else:\n",
    "            reporte_puerto_dict['llegadas'].append(0.0)\n",
    "        reporte_puerto_dict['inventario'].append(cargas[importacion]['inventario_al_final'][periodo].varValue)\n",
    "\n",
    "reporte_puerto_df = pd.DataFrame(reporte_puerto_dict)\n",
    "reporte_puerto_df['costo_total_almacenamiento'] = reporte_puerto_df['inventario']*reporte_puerto_df['costo_almacenamiento']\n"
   ]
  },
  {
   "cell_type": "markdown",
   "metadata": {},
   "source": [
    "## Reporte transporte"
   ]
  },
  {
   "cell_type": "code",
   "execution_count": null,
   "metadata": {},
   "outputs": [],
   "source": [
    "reporte_transporte_dict['importacion'] = list()\n",
    "reporte_transporte_dict['empresa'] = list()\n",
    "reporte_transporte_dict['operador'] = list()\n",
    "reporte_transporte_dict['puerto'] = list()\n",
    "reporte_transporte_dict['ingrediente'] = list()\n",
    "reporte_transporte_dict['periodo'] = list()\n",
    "reporte_transporte_dict['tipo'] = list()\n",
    "reporte_transporte_dict['planta'] = list()\n",
    "reporte_transporte_dict['intercompany'] = list()\n",
    "reporte_transporte_dict['costo_intercompany'] = list()\n",
    "reporte_transporte_dict['flete'] = list()\n",
    "reporte_transporte_dict['cantidad_despacho_por_camion'] = list()\n",
    "reporte_transporte_dict['costo_portuario_despacho_directo'] = list()\n",
    "reporte_transporte_dict['cantidad_despacho'] = list()\n",
    "reporte_transporte_dict['cantidad_camiones_despachados'] = list()\n",
    "reporte_transporte_dict['cantidad_despachada'] = list()\n",
    "reporte_transporte_dict['costo_por_camion'] = list()\n",
    "\n",
    "for importacion, carga in cargas.items():\n",
    "    for nombre_planta, despacho in carga['costo_despacho'].items():\n",
    "        for periodo in periodos:\n",
    "            if periodo in despacho['variable_despacho'].keys():\n",
    "                # if despacho['variable_despacho'][periodo].varValue > 0:\n",
    "\n",
    "                reporte_transporte_dict['importacion'].append(importacion)\n",
    "                reporte_transporte_dict['empresa'].append(carga['empresa'])\n",
    "                reporte_transporte_dict['operador'].append(carga['operador'])\n",
    "                reporte_transporte_dict['puerto'].append(carga['puerto'])\n",
    "                reporte_transporte_dict['ingrediente'].append(carga['ingrediente'])\n",
    "                reporte_transporte_dict['periodo'].append(periodo)\n",
    "                reporte_transporte_dict['tipo'].append(despacho['tipo_envio'][periodo])\n",
    "                reporte_transporte_dict['planta'].append(nombre_planta)\n",
    "                reporte_transporte_dict['intercompany'].append(despacho['intercompany'])\n",
    "                reporte_transporte_dict['costo_intercompany'].append(despacho['valor_intercompany'])\n",
    "                reporte_transporte_dict['flete'].append(despacho['flete'])\n",
    "                reporte_transporte_dict['cantidad_despacho_por_camion'].append(despacho['cantidad_despacho'])\n",
    "                reporte_transporte_dict['costo_portuario_despacho_directo'].append(despacho['costo_despacho_directo'])\n",
    "                reporte_transporte_dict['costo_por_camion'].append(despacho['costo_envio'][periodo])\n",
    "                reporte_transporte_dict['cantidad_despacho'].append(cap_camion)\n",
    "                reporte_transporte_dict['cantidad_camiones_despachados'].append(despacho['variable_despacho'][periodo].varValue)\n",
    "                reporte_transporte_dict['cantidad_despachada'].append(cap_camion*despacho['variable_despacho'][periodo].varValue)\n",
    "\n",
    "reporte_transporte_df = pd.DataFrame(reporte_transporte_dict)\n",
    "reporte_transporte_df['costo_total_despacho'] = reporte_transporte_df['costo_por_camion']*reporte_transporte_df['cantidad_camiones_despachados']"
   ]
  },
  {
   "cell_type": "markdown",
   "metadata": {},
   "source": [
    "## Reporte de Planta"
   ]
  },
  {
   "cell_type": "code",
   "execution_count": null,
   "metadata": {},
   "outputs": [],
   "source": [
    "reporte_plantas_dict=dict()\n",
    "reporte_plantas_dict['planta'] = list()\n",
    "reporte_plantas_dict['empresa'] = list()\n",
    "reporte_plantas_dict['ingrediente'] = list()\n",
    "reporte_plantas_dict['periodo'] = list()\n",
    "reporte_plantas_dict['capcidad'] = list()\n",
    "reporte_plantas_dict['consumo'] = list()\n",
    "reporte_plantas_dict['backorder'] = list()\n",
    "reporte_plantas_dict['safety_stock_kg'] =  list()\n",
    "reporte_plantas_dict['inventario_final'] = list()\n",
    "\n",
    "for nombre_planta, planta in plantas.items():\n",
    "    for ingrediente, inventario in planta['inventarios'].items():\n",
    "\n",
    "        reporte_plantas_dict['planta'].append(nombre_planta)\n",
    "        reporte_plantas_dict['empresa'].append(planta['empresa'])\n",
    "        reporte_plantas_dict['ingrediente'].append(ingrediente)\n",
    "        reporte_plantas_dict['periodo'].append(periodo_anterior)\n",
    "        reporte_plantas_dict['capcidad'].append(inventario['capacidad'])\n",
    "        reporte_plantas_dict['consumo'].append(0.0)\n",
    "        reporte_plantas_dict['backorder'].append(0.0)\n",
    "        reporte_plantas_dict['safety_stock_kg'].append(0.0)\n",
    "        reporte_plantas_dict['inventario_final'].append(inventario['inventario_final'][periodo_anterior])\n",
    "\n",
    "        for periodo in periodos:\n",
    "            reporte_plantas_dict['planta'].append(nombre_planta)\n",
    "            reporte_plantas_dict['empresa'].append(planta['empresa'])\n",
    "            reporte_plantas_dict['ingrediente'].append(ingrediente)\n",
    "            reporte_plantas_dict['periodo'].append(periodo)\n",
    "            reporte_plantas_dict['capcidad'].append(inventario['capacidad'])\n",
    "            reporte_plantas_dict['consumo'].append(inventario['consumo'][periodo])\n",
    "            if periodo in inventario['backorder'].keys():\n",
    "                reporte_plantas_dict['backorder'].append(inventario['backorder'][periodo].varValue)\n",
    "            else:\n",
    "                reporte_plantas_dict['backorder'].append(0.0)\n",
    "\n",
    "            if 'safety_stock_kg' in inventario.keys():\n",
    "                reporte_plantas_dict['safety_stock_kg'].append(inventario['safety_stock_kg'])\n",
    "            else:\n",
    "                reporte_plantas_dict['safety_stock_kg'].append(0.0)\n",
    "            \n",
    "            if type(inventario['inventario_final'][periodo])==pu.pulp.LpVariable:\n",
    "                reporte_plantas_dict['inventario_final'].append(inventario['inventario_final'][periodo].varValue)\n",
    "            else:\n",
    "                reporte_plantas_dict['inventario_final'].append(inventario['inventario_final'][periodo])\n",
    "\n",
    "reporte_plantas_df = pd.DataFrame(reporte_plantas_dict)"
   ]
  },
  {
   "cell_type": "markdown",
   "metadata": {},
   "source": [
    "## Escribiendo el archivo"
   ]
  },
  {
   "cell_type": "code",
   "execution_count": null,
   "metadata": {},
   "outputs": [],
   "source": [
    "with pd.ExcelWriter(path=\"archivo_schema_12_horas.xlsx\") as writer:\n",
    "    reporte_puerto_df.to_excel(writer, sheet_name='Puertos', index=False)\n",
    "    reporte_plantas_df.to_excel(writer, sheet_name='Plantas', index=False)\n",
    "    reporte_transporte_df.to_excel(writer, sheet_name='Despachos', index=False)"
   ]
  }
 ],
 "metadata": {
  "kernelspec": {
   "display_name": "Python 3 (ipykernel)",
   "language": "python",
   "name": "python3"
  },
  "language_info": {
   "codemirror_mode": {
    "name": "ipython",
    "version": 3
   },
   "file_extension": ".py",
   "mimetype": "text/x-python",
   "name": "python",
   "nbconvert_exporter": "python",
   "pygments_lexer": "ipython3",
   "version": "3.11.4"
  }
 },
 "nbformat": 4,
 "nbformat_minor": 4
}
